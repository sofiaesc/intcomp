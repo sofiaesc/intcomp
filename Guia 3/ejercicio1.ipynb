{
 "cells": [
  {
   "cell_type": "markdown",
   "metadata": {},
   "source": [
    "**Ejercicio 1:** La biblioteca dispone de la función train test split, que permite generar una partición de entrenamiento y prueba, y KFold, que genera varias particiones de validación cruzada.\n",
    "Estudie el uso de estas funciones y utilícelas para generar particiones a partir del conjunto de datos Digits que en Scikit-learn puede cargarse usando la función load digits del módulo datasets.\n",
    "Mediante MLPClassifier construya un perceptrón multicapa adecuado para este conjunto de datos y analice su desempeño considerando:\n",
    "- 1 única partición de datos genererada mediante train test split,\n",
    "- 5 particiones generadas mediante KFold,\n",
    "- 10 particiones generadas mediante KFold.\n",
    "\n",
    "Para el análisis tenga en cuenta la media y la varianza de la tasa de acierto obtenida en cada partición."
   ]
  },
  {
   "cell_type": "markdown",
   "metadata": {},
   "source": [
    "#### **Librerías**"
   ]
  },
  {
   "cell_type": "code",
   "execution_count": 81,
   "metadata": {},
   "outputs": [],
   "source": [
    "import numpy as np       \n",
    "from tabulate import tabulate       # Para generar tablas\n",
    "\n",
    "from sklearn import datasets                            # Módulo para cargar datos\n",
    "from sklearn.neural_network import MLPClassifier        # Módulo para construir perceptrón multicapa\n",
    "\n",
    "# Modelos de partición:\n",
    "from sklearn.model_selection import train_test_split    # Caso 1\n",
    "from sklearn.model_selection import KFold               # Casos 2 y 3\n",
    "\n",
    "# Medidas de desempeño:\n",
    "from sklearn.metrics import accuracy_score\n",
    "from sklearn.metrics import f1_score"
   ]
  },
  {
   "cell_type": "markdown",
   "metadata": {},
   "source": [
    "#### **Inicialización**\n",
    "\n",
    "Levanto los datos del conjunto Digits y armo mi perceptrón multicapa para probar el desempeño con las distintas particiones."
   ]
  },
  {
   "cell_type": "code",
   "execution_count": 82,
   "metadata": {},
   "outputs": [],
   "source": [
    "# Cargo los datos Digits:\n",
    "X_digits,y_digits = datasets.load_digits(return_X_y=True)  \n",
    "\n",
    "# Genero mi perceptrón multicapa:\n",
    "clf = MLPClassifier(hidden_layer_sizes=(20,10),learning_rate_init=0.005, max_iter=1000, activation='logistic')"
   ]
  },
  {
   "cell_type": "markdown",
   "metadata": {},
   "source": [
    "Para los casos 2 y 3, podemos generar una función auxiliar que genere n particiones según un argumento que le pasemos junto al conjunto de datos. Como KFold toma como número de particiones por defecto al 5, lo seteamos de esta manera en los argumentos de la función también.\n",
    "\n",
    "También hacemos una función auxiliar para generar los resultados de las medidas de precisión y la tabulación por particiones."
   ]
  },
  {
   "cell_type": "code",
   "execution_count": 83,
   "metadata": {},
   "outputs": [],
   "source": [
    "def generar_kfold(X_digits,y_digits,clf,n_particiones=5):\n",
    "    kf = KFold(n_splits=n_particiones)\n",
    "    ACC = []\n",
    "\n",
    "    for train_index, test_index in kf.split(X_digits):\n",
    "        X_train, X_test = X_digits[train_index], X_digits[test_index]\n",
    "        y_train, y_test = y_digits[train_index], y_digits[test_index]\n",
    "\n",
    "        clf.fit(X_train, y_train)       # Entreno perceptrón con el conjunto de datos obtenido.\n",
    "        y_pred = clf.predict(X_test)    # Obtengo salida con datos de prueba\n",
    "        ACC_aux = accuracy_score(y_test,y_pred)\n",
    "        ACC.append(ACC_aux)\n",
    "\n",
    "    return ACC\n",
    "\n",
    "def medidas(ACC):\n",
    "    # Medidas globales\n",
    "    print('Exactitud media:',np.mean(ACC))\n",
    "    print('Varianza de la exactitud:',np.var(ACC))\n",
    "    # Medidas tabla\n",
    "    table_data = [[x,y] for x, y in zip(range(len(ACC)), ACC)]\n",
    "    headers = ['N° Partición','Precisión']\n",
    "    table = tabulate(table_data, headers, tablefmt='simple_grid',stralign='center',numalign='center')\n",
    "    print(table)"
   ]
  },
  {
   "cell_type": "markdown",
   "metadata": {},
   "source": [
    "##### **Caso 1:** Una única partición de datos generada mediante train test split."
   ]
  },
  {
   "cell_type": "code",
   "execution_count": 84,
   "metadata": {},
   "outputs": [
    {
     "name": "stdout",
     "output_type": "stream",
     "text": [
      "Exactitud: 0.9444444444444444\n"
     ]
    }
   ],
   "source": [
    "X_train, X_test, y_train, y_test = train_test_split(X_digits, y_digits, test_size=0.33, random_state=42)\n",
    "clf.fit(X_train, y_train)       # Entreno perceptrón con el conjunto de datos obtenido.\n",
    "\n",
    "y_pred = clf.predict(X_test)\n",
    "ACC = accuracy_score(y_test,y_pred)\n",
    "print('Exactitud:',ACC)\n"
   ]
  },
  {
   "cell_type": "markdown",
   "metadata": {},
   "source": [
    "##### **Caso 2:** 5 particiones generadas mediante KFold"
   ]
  },
  {
   "cell_type": "code",
   "execution_count": 85,
   "metadata": {},
   "outputs": [
    {
     "name": "stdout",
     "output_type": "stream",
     "text": [
      "Exactitud media: 0.9198700092850511\n",
      "Varianza de la exactitud: 0.0006639685369631348\n",
      "┌────────────────┬─────────────┐\n",
      "│  N° Partición  │  Precisión  │\n",
      "├────────────────┼─────────────┤\n",
      "│       0        │  0.936111   │\n",
      "├────────────────┼─────────────┤\n",
      "│       1        │  0.897222   │\n",
      "├────────────────┼─────────────┤\n",
      "│       2        │  0.913649   │\n",
      "├────────────────┼─────────────┤\n",
      "│       3        │  0.961003   │\n",
      "├────────────────┼─────────────┤\n",
      "│       4        │  0.891365   │\n",
      "└────────────────┴─────────────┘\n"
     ]
    }
   ],
   "source": [
    "ACC = generar_kfold(X_digits,y_digits,clf)\n",
    "medidas(ACC)\n"
   ]
  },
  {
   "cell_type": "markdown",
   "metadata": {},
   "source": [
    "##### **Caso 3:** 10 particiones generadas mediante KFold"
   ]
  },
  {
   "cell_type": "code",
   "execution_count": 86,
   "metadata": {},
   "outputs": [
    {
     "name": "stdout",
     "output_type": "stream",
     "text": [
      "Exactitud media: 0.9320918684047175\n",
      "Varianza de la exactitud: 0.0007517147204526926\n",
      "┌────────────────┬─────────────┐\n",
      "│  N° Partición  │  Precisión  │\n",
      "├────────────────┼─────────────┤\n",
      "│       0        │  0.888889   │\n",
      "├────────────────┼─────────────┤\n",
      "│       1        │  0.961111   │\n",
      "├────────────────┼─────────────┤\n",
      "│       2        │    0.95     │\n",
      "├────────────────┼─────────────┤\n",
      "│       3        │  0.933333   │\n",
      "├────────────────┼─────────────┤\n",
      "│       4        │  0.916667   │\n",
      "├────────────────┼─────────────┤\n",
      "│       5        │  0.955556   │\n",
      "├────────────────┼─────────────┤\n",
      "│       6        │    0.95     │\n",
      "├────────────────┼─────────────┤\n",
      "│       7        │   0.96648   │\n",
      "├────────────────┼─────────────┤\n",
      "│       8        │  0.893855   │\n",
      "├────────────────┼─────────────┤\n",
      "│       9        │  0.905028   │\n",
      "└────────────────┴─────────────┘\n"
     ]
    }
   ],
   "source": [
    "n_particiones = 10\n",
    "ACC = generar_kfold(X_digits,y_digits,clf,n_particiones)\n",
    "medidas(ACC)"
   ]
  }
 ],
 "metadata": {
  "kernelspec": {
   "display_name": "Python 3",
   "language": "python",
   "name": "python3"
  },
  "language_info": {
   "codemirror_mode": {
    "name": "ipython",
    "version": 3
   },
   "file_extension": ".py",
   "mimetype": "text/x-python",
   "name": "python",
   "nbconvert_exporter": "python",
   "pygments_lexer": "ipython3",
   "version": "3.11.5"
  },
  "orig_nbformat": 4
 },
 "nbformat": 4,
 "nbformat_minor": 2
}
