{
 "cells": [
  {
   "cell_type": "markdown",
   "metadata": {},
   "source": [
    "**Ejercicio 2:** Mediante el esquema de cinco particiones generadas con KFold, compare el desempeño del perceptrón multicapa con los siguientes clasificadores:\n",
    "\n",
    "- Naive Bayes,\n",
    "- Análisis discriminante lineal,\n",
    "- K vecinos más cercanos,\n",
    "- Arbol de decisión,\n",
    "- ́Maquina de soporte vectorial."
   ]
  },
  {
   "cell_type": "markdown",
   "metadata": {},
   "source": [
    "#### **Librerías**"
   ]
  },
  {
   "cell_type": "code",
   "execution_count": 298,
   "metadata": {},
   "outputs": [],
   "source": [
    "import numpy as np\n",
    "from tabulate import tabulate                   # Para generar tablas\n",
    "\n",
    "from sklearn import datasets                    # Módulo para levantar los datos\n",
    "from sklearn.metrics import accuracy_score      # Medida de precisión\n",
    "from sklearn.model_selection import KFold       # Modelo de partición\n",
    "\n",
    "# Clasificadores:\n",
    "from sklearn.naive_bayes import GaussianNB\n",
    "from sklearn.discriminant_analysis import LinearDiscriminantAnalysis\n",
    "from sklearn.neighbors import KNeighborsClassifier\n",
    "from sklearn.tree import DecisionTreeClassifier\n",
    "from sklearn.svm import SVC\n",
    "from sklearn.pipeline import make_pipeline\n",
    "from sklearn.preprocessing import StandardScaler"
   ]
  },
  {
   "cell_type": "markdown",
   "metadata": {},
   "source": [
    "#### **Inicialización**\n",
    "Levanto los datos del conjunto Digits con el módulo datasets y, además, genero una función para el KFold de 5 particiones, al cual le voy a pasar los datos de entrada y el clasificador. "
   ]
  },
  {
   "cell_type": "code",
   "execution_count": 299,
   "metadata": {},
   "outputs": [],
   "source": [
    "X_digits,y_digits = datasets.load_digits(return_X_y=True)  \n",
    "datos_tabla = []\n",
    "\n",
    "def generar_kfold(X_digits,y_digits,clf,n_particiones=5):\n",
    "    kf = KFold(n_splits=n_particiones)\n",
    "    ACC = []\n",
    "\n",
    "    for train_index, test_index in kf.split(X_digits):\n",
    "        X_train, X_test = X_digits[train_index], X_digits[test_index]\n",
    "        y_train, y_test = y_digits[train_index], y_digits[test_index]\n",
    "\n",
    "        clf.fit(X_train, y_train)       # Entreno perceptrón con el conjunto de datos obtenido.\n",
    "        y_pred = clf.predict(X_test)    # Obtengo salida con datos de prueba\n",
    "        ACC_aux = accuracy_score(y_test,y_pred)\n",
    "        ACC.append(ACC_aux)\n",
    "\n",
    "    return ACC\n",
    "\n",
    "def medidas(ACC):\n",
    "    # Medidas globales\n",
    "    print('Exactitud media:',np.mean(ACC))\n",
    "    print('Varianza de la exactitud:',np.var(ACC))\n",
    "    # Medidas tabla\n",
    "    table_data = [[x,y] for x, y in zip(range(len(ACC)), ACC)]\n",
    "    headers = ['N° Partición','Precisión']\n",
    "    table = tabulate(table_data, headers, tablefmt='simple_grid',stralign='center',numalign='center')\n",
    "    print(table)"
   ]
  },
  {
   "cell_type": "markdown",
   "metadata": {},
   "source": [
    "#### **Clasificadores**\n",
    "- **Naive-Bayes**\n",
    "\n",
    "Para este clasificador podemos cambiar los parámetros *priors* (vector de probabilidades a priori) y *var_smoothing* ( ). Por default, calcula automáticamente las probabilidades en base a la distribución de clases en los datos de entrenamiento y *var_smoothing* es 1e09."
   ]
  },
  {
   "cell_type": "code",
   "execution_count": 300,
   "metadata": {},
   "outputs": [
    {
     "name": "stdout",
     "output_type": "stream",
     "text": [
      "Exactitud media: 0.8119343856391211\n",
      "Varianza de la exactitud: 0.0010647964372532005\n",
      "┌────────────────┬─────────────┐\n",
      "│  N° Partición  │  Precisión  │\n",
      "├────────────────┼─────────────┤\n",
      "│       0        │  0.788889   │\n",
      "├────────────────┼─────────────┤\n",
      "│       1        │  0.788889   │\n",
      "├────────────────┼─────────────┤\n",
      "│       2        │  0.793872   │\n",
      "├────────────────┼─────────────┤\n",
      "│       3        │  0.874652   │\n",
      "├────────────────┼─────────────┤\n",
      "│       4        │   0.81337   │\n",
      "└────────────────┴─────────────┘\n"
     ]
    }
   ],
   "source": [
    "clf = GaussianNB()\n",
    "ACC = generar_kfold(X_digits,y_digits,clf)\n",
    "medidas(ACC)\n",
    "datos_tabla.append(['Naive-Bayes',np.mean(ACC),np.var(ACC)])"
   ]
  },
  {
   "cell_type": "markdown",
   "metadata": {},
   "source": [
    "- **Análisis discriminante lineal**"
   ]
  },
  {
   "cell_type": "code",
   "execution_count": 301,
   "metadata": {},
   "outputs": [
    {
     "name": "stdout",
     "output_type": "stream",
     "text": [
      "Exactitud media: 0.9076261219436708\n",
      "Varianza de la exactitud: 0.000402178605567908\n",
      "┌────────────────┬─────────────┐\n",
      "│  N° Partición  │  Precisión  │\n",
      "├────────────────┼─────────────┤\n",
      "│       0        │  0.936111   │\n",
      "├────────────────┼─────────────┤\n",
      "│       1        │    0.875    │\n",
      "├────────────────┼─────────────┤\n",
      "│       2        │  0.913649   │\n",
      "├────────────────┼─────────────┤\n",
      "│       3        │  0.913649   │\n",
      "├────────────────┼─────────────┤\n",
      "│       4        │  0.899721   │\n",
      "└────────────────┴─────────────┘\n"
     ]
    }
   ],
   "source": [
    "clf = LinearDiscriminantAnalysis()\n",
    "ACC = generar_kfold(X_digits,y_digits,clf)\n",
    "medidas(ACC)\n",
    "datos_tabla.append(['Análisis discriminante lineal',np.mean(ACC),np.var(ACC)])"
   ]
  },
  {
   "cell_type": "markdown",
   "metadata": {},
   "source": [
    "- **K vecinos más cercanos**\n",
    "\n",
    "Para este clasificador podemos cambiar la K, esto es, el número de vecinos. Se probarán distintos valores de K: 1, 3 y 5 (valor por default) para realizar una comparación dentro del método y contra los demás."
   ]
  },
  {
   "cell_type": "code",
   "execution_count": 302,
   "metadata": {},
   "outputs": [
    {
     "name": "stdout",
     "output_type": "stream",
     "text": [
      "------------ K = 1 ------------\n",
      "Exactitud media: 0.9649504797276384\n",
      "Varianza de la exactitud: 0.00016554467270554172\n",
      "┌────────────────┬─────────────┐\n",
      "│  N° Partición  │  Precisión  │\n",
      "├────────────────┼─────────────┤\n",
      "│       0        │  0.961111   │\n",
      "├────────────────┼─────────────┤\n",
      "│       1        │  0.952778   │\n",
      "├────────────────┼─────────────┤\n",
      "│       2        │  0.966574   │\n",
      "├────────────────┼─────────────┤\n",
      "│       3        │  0.988858   │\n",
      "├────────────────┼─────────────┤\n",
      "│       4        │  0.955432   │\n",
      "└────────────────┴─────────────┘\n",
      "------------ K = 3 ------------\n",
      "Exactitud media: 0.9666202414113277\n",
      "Varianza de la exactitud: 0.00010783744330711395\n",
      "┌────────────────┬─────────────┐\n",
      "│  N° Partición  │  Precisión  │\n",
      "├────────────────┼─────────────┤\n",
      "│       0        │  0.955556   │\n",
      "├────────────────┼─────────────┤\n",
      "│       1        │  0.961111   │\n",
      "├────────────────┼─────────────┤\n",
      "│       2        │  0.963788   │\n",
      "├────────────────┼─────────────┤\n",
      "│       3        │  0.986072   │\n",
      "├────────────────┼─────────────┤\n",
      "│       4        │  0.966574   │\n",
      "└────────────────┴─────────────┘\n",
      "------------ K = 5 ------------\n",
      "Exactitud media: 0.9649504797276384\n",
      "Varianza de la exactitud: 0.00011271394867942636\n",
      "┌────────────────┬─────────────┐\n",
      "│  N° Partición  │  Precisión  │\n",
      "├────────────────┼─────────────┤\n",
      "│       0        │    0.95     │\n",
      "├────────────────┼─────────────┤\n",
      "│       1        │  0.963889   │\n",
      "├────────────────┼─────────────┤\n",
      "│       2        │  0.963788   │\n",
      "├────────────────┼─────────────┤\n",
      "│       3        │  0.983287   │\n",
      "├────────────────┼─────────────┤\n",
      "│       4        │  0.963788   │\n",
      "└────────────────┴─────────────┘\n"
     ]
    }
   ],
   "source": [
    "print('------------ K = 1 ------------')\n",
    "clf = KNeighborsClassifier(n_neighbors=1)\n",
    "ACC = generar_kfold(X_digits,y_digits,clf)\n",
    "medidas(ACC)\n",
    "datos_tabla.append(['1 vecino más cercano',np.mean(ACC),np.var(ACC)])\n",
    "\n",
    "print('------------ K = 3 ------------')\n",
    "clf = KNeighborsClassifier(n_neighbors=3)\n",
    "ACC = generar_kfold(X_digits,y_digits,clf)\n",
    "medidas(ACC)\n",
    "datos_tabla.append(['3 vecinos más cercanos',np.mean(ACC),np.var(ACC)])\n",
    "\n",
    "print('------------ K = 5 ------------')\n",
    "clf = KNeighborsClassifier(n_neighbors=5)\n",
    "ACC = generar_kfold(X_digits,y_digits,clf)\n",
    "medidas(ACC)\n",
    "datos_tabla.append(['5 vecinos más cercanos',np.mean(ACC),np.var(ACC)])"
   ]
  },
  {
   "cell_type": "markdown",
   "metadata": {},
   "source": [
    "- **Árbol de decisión**\n",
    "\n",
    "Para este clasificador, podemos elegir el criterio para la división de las dimensiones. En particular, probamos Impureza de Gini y Entropía para comparar dentro del método y contra los otros."
   ]
  },
  {
   "cell_type": "code",
   "execution_count": 303,
   "metadata": {},
   "outputs": [
    {
     "name": "stdout",
     "output_type": "stream",
     "text": [
      "------------ Gini ------------\n",
      "Exactitud media: 0.7874744661095636\n",
      "Varianza de la exactitud: 0.0020133559276281385\n",
      "┌────────────────┬─────────────┐\n",
      "│  N° Partición  │  Precisión  │\n",
      "├────────────────┼─────────────┤\n",
      "│       0        │  0.763889   │\n",
      "├────────────────┼─────────────┤\n",
      "│       1        │  0.719444   │\n",
      "├────────────────┼─────────────┤\n",
      "│       2        │   0.81337   │\n",
      "├────────────────┼─────────────┤\n",
      "│       3        │  0.852368   │\n",
      "├────────────────┼─────────────┤\n",
      "│       4        │  0.788301   │\n",
      "└────────────────┴─────────────┘\n",
      "------------ Entropía ------------\n",
      "Exactitud media: 0.8141411327762302\n",
      "Varianza de la exactitud: 0.00044499650409637084\n",
      "┌────────────────┬─────────────┐\n",
      "│  N° Partición  │  Precisión  │\n",
      "├────────────────┼─────────────┤\n",
      "│       0        │    0.825    │\n",
      "├────────────────┼─────────────┤\n",
      "│       1        │  0.791667   │\n",
      "├────────────────┼─────────────┤\n",
      "│       2        │  0.846797   │\n",
      "├────────────────┼─────────────┤\n",
      "│       3        │  0.816156   │\n",
      "├────────────────┼─────────────┤\n",
      "│       4        │  0.791086   │\n",
      "└────────────────┴─────────────┘\n"
     ]
    }
   ],
   "source": [
    "print('------------ Gini ------------')\n",
    "clf = DecisionTreeClassifier(criterion='gini')\n",
    "ACC = generar_kfold(X_digits,y_digits,clf)\n",
    "medidas(ACC)\n",
    "datos_tabla.append(['Árbol de decisión (Gini)',np.mean(ACC),np.var(ACC)])\n",
    "\n",
    "print('------------ Entropía ------------')\n",
    "clf = DecisionTreeClassifier(criterion='entropy')\n",
    "ACC = generar_kfold(X_digits,y_digits,clf)\n",
    "medidas(ACC)\n",
    "datos_tabla.append(['Árbol de decisión (Entropía)',np.mean(ACC),np.var(ACC)])"
   ]
  },
  {
   "cell_type": "markdown",
   "metadata": {},
   "source": [
    "- **Máquina de soporte vectorial**\n",
    "\n",
    "Para este clasificador, debido a que no es invariante en escala, utilizamos la función StandardScaler() para escalar los datos, estandarizándolos para que tengan media 0 y varianza 1.\n",
    "\n",
    "Probamos cambiar el kernel entre 4 de los que provee el módulo de sklearn para comparar en el mismo método y con los demás."
   ]
  },
  {
   "cell_type": "code",
   "execution_count": 304,
   "metadata": {},
   "outputs": [
    {
     "name": "stdout",
     "output_type": "stream",
     "text": [
      "------------ Linear ------------\n",
      "Exactitud media: 0.9482559579077684\n",
      "Varianza de la exactitud: 0.00028008245907005277\n",
      "┌────────────────┬─────────────┐\n",
      "│  N° Partición  │  Precisión  │\n",
      "├────────────────┼─────────────┤\n",
      "│       0        │  0.944444   │\n",
      "├────────────────┼─────────────┤\n",
      "│       1        │  0.936111   │\n",
      "├────────────────┼─────────────┤\n",
      "│       2        │  0.958217   │\n",
      "├────────────────┼─────────────┤\n",
      "│       3        │   0.97493   │\n",
      "├────────────────┼─────────────┤\n",
      "│       4        │  0.927577   │\n",
      "└────────────────┴─────────────┘\n",
      "------------ Polynomial Kernel ------------\n",
      "Exactitud media: 0.9126663571649644\n",
      "Varianza de la exactitud: 0.001496741419326336\n",
      "┌────────────────┬─────────────┐\n",
      "│  N° Partición  │  Precisión  │\n",
      "├────────────────┼─────────────┤\n",
      "│       0        │  0.913889   │\n",
      "├────────────────┼─────────────┤\n",
      "│       1        │    0.85     │\n",
      "├────────────────┼─────────────┤\n",
      "│       2        │  0.955432   │\n",
      "├────────────────┼─────────────┤\n",
      "│       3        │  0.949861   │\n",
      "├────────────────┼─────────────┤\n",
      "│       4        │   0.89415   │\n",
      "└────────────────┴─────────────┘\n",
      "------------ Radial Basis Function ------------\n",
      "Exactitud media: 0.9454673475704116\n",
      "Varianza de la exactitud: 0.0001373826999564435\n",
      "┌────────────────┬─────────────┐\n",
      "│  N° Partición  │  Precisión  │\n",
      "├────────────────┼─────────────┤\n",
      "│       0        │  0.961111   │\n",
      "├────────────────┼─────────────┤\n",
      "│       1        │    0.925    │\n",
      "├────────────────┼─────────────┤\n",
      "│       2        │  0.949861   │\n",
      "├────────────────┼─────────────┤\n",
      "│       3        │  0.947075   │\n",
      "├────────────────┼─────────────┤\n",
      "│       4        │   0.94429   │\n",
      "└────────────────┴─────────────┘\n",
      "------------ Sigmoid Kernel ------------\n",
      "Exactitud media: 0.9137681832250075\n",
      "Varianza de la exactitud: 0.0008041235857252178\n",
      "┌────────────────┬─────────────┐\n",
      "│  N° Partición  │  Precisión  │\n",
      "├────────────────┼─────────────┤\n",
      "│       0        │  0.913889   │\n",
      "├────────────────┼─────────────┤\n",
      "│       1        │  0.872222   │\n",
      "├────────────────┼─────────────┤\n",
      "│       2        │  0.924791   │\n",
      "├────────────────┼─────────────┤\n",
      "│       3        │  0.958217   │\n",
      "├────────────────┼─────────────┤\n",
      "│       4        │  0.899721   │\n",
      "└────────────────┴─────────────┘\n"
     ]
    }
   ],
   "source": [
    "print('------------ Linear ------------')\n",
    "clf = make_pipeline(StandardScaler(),SVC(gamma='auto',kernel='linear'))\n",
    "ACC = generar_kfold(X_digits,y_digits,clf)\n",
    "medidas(ACC)\n",
    "datos_tabla.append(['Máquina de soporte vectorial (Linear)',np.mean(ACC),np.var(ACC)])\n",
    "\n",
    "print('------------ Polynomial Kernel ------------')\n",
    "clf = make_pipeline(StandardScaler(),SVC(gamma='auto',kernel='poly'))\n",
    "ACC = generar_kfold(X_digits,y_digits,clf)\n",
    "medidas(ACC)\n",
    "datos_tabla.append(['Máquina de soporte vectorial (Poly)',np.mean(ACC),np.var(ACC)])\n",
    "\n",
    "print('------------ Radial Basis Function ------------')\n",
    "clf = make_pipeline(StandardScaler(),SVC(gamma='auto',kernel='rbf'))\n",
    "ACC = generar_kfold(X_digits,y_digits,clf)\n",
    "medidas(ACC)\n",
    "datos_tabla.append(['Máquina de soporte vectorial (RBF)',np.mean(ACC),np.var(ACC)])\n",
    "\n",
    "print('------------ Sigmoid Kernel ------------')\n",
    "clf = make_pipeline(StandardScaler(),SVC(gamma='auto',kernel='sigmoid'))\n",
    "ACC = generar_kfold(X_digits,y_digits,clf)\n",
    "medidas(ACC)\n",
    "datos_tabla.append(['Máquina de soporte vectorial (Sigmoid)',np.mean(ACC),np.var(ACC)])"
   ]
  },
  {
   "cell_type": "markdown",
   "metadata": {},
   "source": [
    "#### **Conclusiones**\n",
    "Realizamos una tabla que tenga la precisión media y la varianza de precisión para cada uno de los clasificadores a modo de comparación, y determinamos el de mejor desempeño:"
   ]
  },
  {
   "cell_type": "code",
   "execution_count": 305,
   "metadata": {},
   "outputs": [
    {
     "name": "stdout",
     "output_type": "stream",
     "text": [
      "┌────────────────────────────────────────┬───────────────────┬─────────────┐\n",
      "│              Clasificador              │  Precisión media  │  Varianza   │\n",
      "├────────────────────────────────────────┼───────────────────┼─────────────┤\n",
      "│              Naive-Bayes               │     0.811934      │  0.0010648  │\n",
      "├────────────────────────────────────────┼───────────────────┼─────────────┤\n",
      "│     Análisis discriminante lineal      │     0.907626      │ 0.000402179 │\n",
      "├────────────────────────────────────────┼───────────────────┼─────────────┤\n",
      "│          1 vecino más cercano          │      0.96495      │ 0.000165545 │\n",
      "├────────────────────────────────────────┼───────────────────┼─────────────┤\n",
      "│         3 vecinos más cercanos         │      0.96662      │ 0.000107837 │\n",
      "├────────────────────────────────────────┼───────────────────┼─────────────┤\n",
      "│         5 vecinos más cercanos         │      0.96495      │ 0.000112714 │\n",
      "├────────────────────────────────────────┼───────────────────┼─────────────┤\n",
      "│        Árbol de decisión (Gini)        │     0.787474      │ 0.00201336  │\n",
      "├────────────────────────────────────────┼───────────────────┼─────────────┤\n",
      "│      Árbol de decisión (Entropía)      │     0.814141      │ 0.000444997 │\n",
      "├────────────────────────────────────────┼───────────────────┼─────────────┤\n",
      "│ Máquina de soporte vectorial (Linear)  │     0.948256      │ 0.000280082 │\n",
      "├────────────────────────────────────────┼───────────────────┼─────────────┤\n",
      "│  Máquina de soporte vectorial (Poly)   │     0.912666      │ 0.00149674  │\n",
      "├────────────────────────────────────────┼───────────────────┼─────────────┤\n",
      "│   Máquina de soporte vectorial (RBF)   │     0.945467      │ 0.000137383 │\n",
      "├────────────────────────────────────────┼───────────────────┼─────────────┤\n",
      "│ Máquina de soporte vectorial (Sigmoid) │     0.913768      │ 0.000804124 │\n",
      "└────────────────────────────────────────┴───────────────────┴─────────────┘\n",
      "El clasificador con una media de precisión más alta es \" 3 vecinos más cercanos \" con una media de 0.96662\n",
      "El clasificador con una varianza de precisión más baja es \" 3 vecinos más cercanos \" con una varianza de 0.000108\n"
     ]
    }
   ],
   "source": [
    "headers = ['Clasificador','Precisión media','Varianza']\n",
    "table = tabulate(datos_tabla, headers, tablefmt='simple_grid',stralign='center',numalign='center')\n",
    "print(table)\n",
    "\n",
    "max_acc = max(datos_tabla, key=lambda x: x[1])\n",
    "print('El clasificador con una media de precisión más alta es \"', max_acc[0],'\" con una media de',round(max_acc[1],6))\n",
    "\n",
    "min_var = min(datos_tabla, key=lambda x: x[2])\n",
    "print('El clasificador con una varianza de precisión más baja es \"',min_var[0],'\" con una varianza de',round(min_var[2],6))"
   ]
  }
 ],
 "metadata": {
  "kernelspec": {
   "display_name": "Python 3",
   "language": "python",
   "name": "python3"
  },
  "language_info": {
   "codemirror_mode": {
    "name": "ipython",
    "version": 3
   },
   "file_extension": ".py",
   "mimetype": "text/x-python",
   "name": "python",
   "nbconvert_exporter": "python",
   "pygments_lexer": "ipython3",
   "version": "3.11.5"
  },
  "orig_nbformat": 4
 },
 "nbformat": 4,
 "nbformat_minor": 2
}
