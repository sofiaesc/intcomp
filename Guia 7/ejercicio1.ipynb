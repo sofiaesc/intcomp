{
 "cells": [
  {
   "cell_type": "markdown",
   "metadata": {},
   "source": [
    "**Ejercicio 1:** Implemente un algoritmo de optimización por enjambre de partículas y utilícelo para encontrar el mínimo global de las funciones del Ejercicio 1 de la Guía de trabajos prácticos 6.\n",
    "Compare los resultados en relación a los obtenidos con algoritmos genéticos, en términos de las soluciones encontradas y la velocidad de convergencia."
   ]
  },
  {
   "cell_type": "markdown",
   "metadata": {},
   "source": [
    "#### **Librerias**"
   ]
  },
  {
   "cell_type": "code",
   "execution_count": 156,
   "metadata": {},
   "outputs": [],
   "source": [
    "import numpy as np\n",
    "import time"
   ]
  },
  {
   "cell_type": "markdown",
   "metadata": {},
   "source": [
    "#### **Algoritmo**\n",
    "\n",
    "**Parámetros:**\n",
    "- c1, c2 son pesos a la historia personal y social respecivamente, que pueden ser variables en las iteraciones como vimos en la fase de transición del SOM.\n",
    "- r_1i, r_2i son vectores que tienen tantas componentes como dimensiones las particulas. Sus elementos son numeros aleatorios distribuidos entre 0 y 1 que se van aleatorizando cada vez que voy a usar la ecuación, y se aplican elemento a elemento a la resta y-x, y lo que me hace es romper el determinismo, sino llegaría a la misma posición final con todas las particulas.\n",
    "\n",
    "**Vectores:**\n",
    "- v_enjambre, cuyos elementos son la posicion(primeras columnas) y el valor(ultima columna) de cada una de las particulas\n",
    "- valores, cuyos elementos son los valores que tienen las posiciones de v_enjambre\n",
    "- mejores_valores, cuyos elementos son las mejores posiciones(primeras columnas) y sus valores(ultima columna) asociados que tuvo cada particula en toda su historia\n",
    "- mejor_pos_global, cuyos elementos son la mejor posicion historica de todas las particulas y su valor"
   ]
  },
  {
   "cell_type": "code",
   "execution_count": 157,
   "metadata": {},
   "outputs": [],
   "source": [
    "def enjambre(num_particulas, mins, maxs):\n",
    "    # Crear un enjambre de partículas\n",
    "    particulas = np.zeros((num_particulas, len(mins)));\n",
    "    for i in range(num_particulas):\n",
    "        for j in range(len(mins)):\n",
    "            particulas[i][j] = np.random.uniform(mins[j], maxs[j]);\n",
    "    return particulas\n",
    "# particulas ahora contiene una lista de partículas con valores aleatorios en el rango especificado.      "
   ]
  },
  {
   "cell_type": "code",
   "execution_count": 158,
   "metadata": {},
   "outputs": [],
   "source": [
    "def algoritmo_enjambre(num_particulas,mins,maxs,funcion_error,c,max_iteraciones,tolerancia):\n",
    "\n",
    "    inicio = time.time()    # Inicio del contador de tiempo para ver velocidad de convergencia\n",
    "\n",
    "    # Inicialización del enjambre:\n",
    "    v_enjambre = enjambre(num_particulas,mins,maxs);\n",
    "    aux_valores = np.zeros(num_particulas)\n",
    "    for i in range(len(v_enjambre)):    # Valores de la función de error para cada partícula\n",
    "        aux_valores[i] = funcion_error(v_enjambre[i])\n",
    "    velocides = np.zeros((num_particulas,len(mins)))\n",
    "    \n",
    "    # Inicializo vectores para comparar y obtener mejor posición:\n",
    "    mejor_pos = np.hstack((v_enjambre, aux_valores.reshape(-1, 1)))\n",
    "    mejor_pos_global = np.hstack((v_enjambre[np.argmin(aux_valores)],aux_valores[np.argmin(aux_valores)]));\n",
    "    \n",
    "    for _ in range(max_iteraciones):\n",
    "\n",
    "        # Para cada partícula, reviso si su valor para la función de error es el mejor personal o global.\n",
    "        for i in range(num_particulas):\n",
    "            resultado = funcion_error(v_enjambre[i])\n",
    "            if(resultado<mejor_pos[i][-1]):             # Si partícula i es el mejor personal, reemplazo.\n",
    "                mejor_pos[i][:] = np.hstack((v_enjambre[i],resultado));\n",
    "                if(resultado<mejor_pos_global[-1]):     # Si partícula i es el mejor personal, me fijo si es el mejor global. Si lo es, reemplazo.\n",
    "                    mejor_pos_global = np.hstack((v_enjambre[i],resultado));\n",
    "        \n",
    "        # Aleatorización de las r para cada partícula:\n",
    "        r1 = np.random.rand(len(v_enjambre),1);\n",
    "        r2 = np.random.rand(len(v_enjambre),1);\n",
    "\n",
    "        # Calculo velocidades de manera vectorial:\n",
    "        velocides = velocides + c[0]*r1*(mejor_pos[:,:-1]-v_enjambre)+c[1]*r2*(mejor_pos_global[:-1]-v_enjambre)\n",
    "\n",
    "        # Para cada partícula, obtengo el cambio en la posición con la velocidad obtenida: \n",
    "        for i in range(num_particulas):\n",
    "            suma = v_enjambre[i] + velocides[i]\n",
    "            if(np.logical_and(suma > mins, suma < maxs).all()):     # Verifico que no me vaya de los límites del problema.\n",
    "                v_enjambre[i] = suma\n",
    "    \n",
    "        # Condición de corte:\n",
    "        #if(mejor_pos_global[-1]<tolerancia):\n",
    "        #    print(\"tol\")\n",
    "        #    break\n",
    "\n",
    "    fin = time.time()\n",
    "    print(f'El algoritmo con {max_iteraciones} iteraciones terminó en {round(fin-inicio,4)} segundos.')\n",
    "\n",
    "    return mejor_pos_global;\n",
    "        "
   ]
  },
  {
   "cell_type": "markdown",
   "metadata": {},
   "source": [
    "**Función 1:** $ f(x) = - x \\sin(\\sqrt{|x|}) $, con $ x \\in [-512...512] $"
   ]
  },
  {
   "cell_type": "code",
   "execution_count": 159,
   "metadata": {},
   "outputs": [
    {
     "name": "stdout",
     "output_type": "stream",
     "text": [
      "El mínimo de la función está en: [418.909090909091,-418.4481325008988]\n",
      "El algoritmo con 100 iteraciones terminó en 0.1547 segundos.\n",
      "El mínimo encontrado por el algoritmo de enjambres está en: [ 420.77529273 -418.9781653 ]\n"
     ]
    }
   ],
   "source": [
    "def f1(x):\n",
    "    return -x*np.sin(np.sqrt(abs(x)))\n",
    "x = np.linspace(-512,512,100)\n",
    "y_f = f1(x)\n",
    "print(f'El mínimo de la función está en: [{x[np.argmin(y_f)]},{np.min(y_f)}]')\n",
    "\n",
    "num_particulas = 50\n",
    "minimos = [-512]\n",
    "maximos = [512]\n",
    "funcion_error = f1\n",
    "c = [0.1,0.7]\n",
    "max_iteraciones = 100\n",
    "tolerancia = 0.2\n",
    "resultado = algoritmo_enjambre(num_particulas,minimos,maximos,funcion_error,c,max_iteraciones,tolerancia);\n",
    "print('El mínimo encontrado por el algoritmo de enjambres está en:',resultado)"
   ]
  },
  {
   "cell_type": "markdown",
   "metadata": {},
   "source": [
    "**Función 2:** $ f(x, y) = (x^2 + y^2)^{0.25} [\\sin^2 (50 (x^2 + y^2)^{0.1}) + 1]$, con $x, y \\in [-100...100]$"
   ]
  },
  {
   "cell_type": "code",
   "execution_count": 162,
   "metadata": {},
   "outputs": [
    {
     "name": "stdout",
     "output_type": "stream",
     "text": [
      "El mínimo de la función está en: [0.10010010010010717,0.10010010010010717,0.5467853625415365]\n",
      "El algoritmo con 100 iteraciones terminó en 0.0667 segundos.\n",
      "El mínimo encontrado por el algoritmo de enjambres está en: [-0.03270099 -0.14348862  0.46384236]\n"
     ]
    }
   ],
   "source": [
    "def f2(x):\n",
    "    return ((x[0]**2 + x[1]**2)**0.25)*((np.sin(50*(x[0]**2 + x[1]**2)**0.1))**2  + 1)\n",
    "x = np.linspace(-100, 100, 1000)\n",
    "y = np.linspace(-100, 100, 1000)\n",
    "print(f'El mínimo de la función está en: [{x[np.argmin(f2([x,y]))]},{y[np.argmin(f2([x,y]))]},{np.min(f2([x,y]))}]')\n",
    "\n",
    "num_particulas = 50;\n",
    "minimos = [-100,-100];\n",
    "maximos = [100,100];\n",
    "funcion_error = f2;\n",
    "c = [0.1,0.7];\n",
    "max_iteraciones = 100;\n",
    "tolerancia = 0.2\n",
    "resultado = algoritmo_enjambre(num_particulas,minimos,maximos,funcion_error,c,max_iteraciones,tolerancia);\n",
    "print('El mínimo encontrado por el algoritmo de enjambres está en:',resultado)"
   ]
  }
 ],
 "metadata": {
  "kernelspec": {
   "display_name": "Python 3",
   "language": "python",
   "name": "python3"
  },
  "language_info": {
   "codemirror_mode": {
    "name": "ipython",
    "version": 3
   },
   "file_extension": ".py",
   "mimetype": "text/x-python",
   "name": "python",
   "nbconvert_exporter": "python",
   "pygments_lexer": "ipython3",
   "version": "3.11.6"
  }
 },
 "nbformat": 4,
 "nbformat_minor": 2
}
