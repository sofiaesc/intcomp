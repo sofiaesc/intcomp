{
 "cells": [
  {
   "cell_type": "markdown",
   "metadata": {},
   "source": [
    "**Ejercicio 1:** Suponga que un viajante tiene que visitar n ciudades en el menor tiempo posible. Considere una matriz D de tama ̃no n×n cuyos elementos dpq denotan la distancia entre cada par de ciudades (p,q). Se define un recorrido como una trayectoria cerrada que visita cada ciudad una y s ́olo una vez (a excepci ́on de la ciudad de partida, a la cual debe regresar). El problema consiste\n",
    "en hallar el recorrido de m ́ınima longitud.\n",
    "\n",
    "Implemente el algoritmo de sistema de hormigas y util ́ıcelo para resolver el problema del agente viajero considerando los datos proporcionados en el archivo gr17.csv. Analice el efecto de la tasa de evaporación (ρ) y de la cantidad de feromona depositada (τ) sobre los resultados de la b ́usqueda. Para esto  ́ultimo compare el desempe ̃no del algoritmo empleando los m ́etodos global, local y uniforme\n",
    "para dep ́osito de feromonas. Realice varias corridas con cada configuraci ́on experimental y considere el tiempo de b ́usqueda y la longitud de los caminos encontrados como medidas para comparar el desempe ̃no. Construya una tabla comparativa con los resultados obtenidos."
   ]
  },
  {
   "cell_type": "code",
   "execution_count": 233,
   "metadata": {},
   "outputs": [],
   "source": [
    "import pandas as pd\n",
    "import numpy as np\n",
    "import random\n",
    "import time"
   ]
  },
  {
   "cell_type": "code",
   "execution_count": 234,
   "metadata": {},
   "outputs": [],
   "source": [
    "def select_next_city(current_city, unvisited_cities, pheromone_matrix, distance_matrix, alpha, beta):\n",
    "    prob_of_next = np.zeros_like(unvisited_cities, dtype=float)                                 # Genero un vector de probabilidades relleno de zeros\n",
    "    total_sum = 0                                                                               # Genero una variable para almacenar la sumatoria\n",
    "    for i in range(len(unvisited_cities)):                                                      # Por cada ciudad sin visitar \n",
    "        unvisited_idx = unvisited_cities[i]                                                         # Determino el indice de la ciudad \n",
    "        total_sum += (((pheromone_matrix[current_city][unvisited_idx])**alpha)*                     # Calculo la suma segun distancias y feromonas\n",
    "                      ((1/distance_matrix[current_city][unvisited_idx])**beta))\n",
    "    for i in range(len(unvisited_cities)):                                                      # Por cada ciudad sin visitar\n",
    "        unvisited_idx = unvisited_cities[i]                                                         # Determino el indice de la ciudad\n",
    "        prob_of_next[i] = (((pheromone_matrix[current_city][unvisited_idx])**alpha)*                # Calculo la probabilidad segun distancias y feromonas\n",
    "                           ((1/distance_matrix[current_city][unvisited_idx])**beta))/total_sum\n",
    "    total_prob = sum(prob_of_next)                                                              # Sumo todas las probabilidades\n",
    "    normalized_prob = [p / total_prob for p in prob_of_next]                                    # Las normalizo entre 0 y 1\n",
    "    random_number = random.random()                                                             # Genero un valor random en ese rango\n",
    "    cumul_prob = 0                                                                              # Inicializo la probabilidad acumulada\n",
    "    for i, prob in enumerate(normalized_prob):                                                  # Para cada probabilidad\n",
    "        cumul_prob += prob                                                                          # Agrego la probabilidad a la acumulada\n",
    "        if (random_number <= cumul_prob):                                                           # Si el valor random es menor que la probabilidad acumulada\n",
    "            return unvisited_cities[i]                                                                  # Retorno la ciudad ganadora"
   ]
  },
  {
   "cell_type": "code",
   "execution_count": 235,
   "metadata": {},
   "outputs": [],
   "source": [
    "def deposit_pheromones_Qcte(n_ants, n_cities, pheromone_matrix, tour_matrix, Qfer, _):\n",
    "    for i in range(n_ants):                                                                 # Por cada viajante\n",
    "        delta_pheromones = np.zeros_like(pheromone_matrix)                                      # Inicializacion de la matriz de cambio en feromonas\n",
    "        for j in range(-1, n_cities-1):                                                         # Por cada camino\n",
    "            idx_act_city  = int(tour_matrix[i][j])                                                  # Indice ciudad actual\n",
    "            idx_next_city = int(tour_matrix[i][j+1])                                                # Indice ciudad siguiente\n",
    "            delta_pheromones[idx_act_city][idx_next_city] += Qfer                                      # Actualización por Q.\n",
    "            delta_pheromones[idx_next_city][idx_act_city] += Qfer                                      # Arranca en -1 para que tambíen cubra la vuelta a la ciudad de origen\n",
    "        pheromone_matrix += delta_pheromones                                                    # Depósito de nuevas feromonas\n",
    "    return pheromone_matrix"
   ]
  },
  {
   "cell_type": "code",
   "execution_count": 236,
   "metadata": {},
   "outputs": [],
   "source": [
    "def deposit_pheromones_Qvar(n_ants, n_cities, pheromone_matrix, tour_matrix, Qfer, distance_matrix):\n",
    "    for i in range(n_ants):                                                                                         # Por cada viajante\n",
    "        delta_pheromones = np.zeros_like(pheromone_matrix)                                                          # Inicializacion de la matriz de cambio en feromonas\n",
    "        for j in range(-1, n_cities-1):                                                                             # Por cada camino\n",
    "            idx_act_city  = int(tour_matrix[i][j])                                                                  # Indice ciudad actual\n",
    "            idx_next_city = int(tour_matrix[i][j+1])                                                                # Indice ciudad siguiente\n",
    "            delta_pheromones[idx_act_city][idx_next_city] += Qfer/distance_matrix[idx_act_city][idx_next_city]      # Actualización por Q/dist.\n",
    "            delta_pheromones[idx_next_city][idx_act_city] += Qfer/distance_matrix[idx_next_city][idx_act_city]      # Arranca en -1 para que tambíen cubra la vuelta a la ciudad de origen\n",
    "        pheromone_matrix += delta_pheromones                                                                        # Depósito de nuevas feromonas\n",
    "    return pheromone_matrix"
   ]
  },
  {
   "cell_type": "code",
   "execution_count": 237,
   "metadata": {},
   "outputs": [],
   "source": [
    "def deposit_pheromones_Qltot(n_ants, n_cities, pheromone_matrix, tour_matrix, Qfer, distance_matrix):\n",
    "    for i in range(n_ants):\n",
    "        total_dist = 0                                                         \n",
    "        delta_pheromones = np.zeros_like(pheromone_matrix)                          # Inicializacion de la matriz de cambio en feromonas\n",
    "        for j in range(-1, n_cities-1):                                             # Calculo distancia total recorrida por la hormiga \n",
    "            idx_act_city  = int(tour_matrix[i][j])                                  # Indice ciudad actual\n",
    "            idx_next_city = int(tour_matrix[i][j+1])                                # Indice ciudad siguiente\n",
    "            total_dist += distance_matrix[idx_act_city][idx_next_city]\n",
    "        for j in range(-1, n_cities-1):                                             # Por cada par (i,j), calculo cambio en feromonas                 \n",
    "            delta_pheromones[idx_act_city][idx_next_city] += Qfer/total_dist        # Actualización por Q/total_dist\n",
    "            delta_pheromones[idx_next_city][idx_act_city] += Qfer/total_dist        # Arranca en -1 para que tambíen cubra la vuelta a la ciudad de origen\n",
    "        pheromone_matrix += delta_pheromones                                        # Depósito de nuevas feromonas\n",
    "    return pheromone_matrix"
   ]
  },
  {
   "cell_type": "code",
   "execution_count": 238,
   "metadata": {},
   "outputs": [],
   "source": [
    "# Función que obtinene la distancia mínima entre las n hormigas\n",
    "def min_distance(tour_matrix, distance_matrix):          \n",
    "    min_dist = float('inf')\n",
    "\n",
    "    for k in range(tour_matrix.shape[0]):  # Por cada hormiga\n",
    "        dist_k = 0\n",
    "        for i in range(len(tour_matrix[k]) - 1):\n",
    "            dist_k += distance_matrix[tour_matrix[k][i]][tour_matrix[k][i+1]]\n",
    "        dist_k += distance_matrix[tour_matrix[k][-1]][tour_matrix[k][0]]  # Volver a la ciudad de inicio\n",
    "        \n",
    "        if(dist_k < min_dist):\n",
    "            idx_min_dist = k\n",
    "            min_dist = dist_k\n",
    "\n",
    "    return tour_matrix[idx_min_dist],min_dist "
   ]
  },
  {
   "cell_type": "code",
   "execution_count": 239,
   "metadata": {},
   "outputs": [],
   "source": [
    "#--- Carga de datos ---#\n",
    "distance_matrix = np.genfromtxt('./data/gr17.csv', delimiter=',')   # Matriz de distancias\n",
    "pheromone_matrix = np.ones_like(distance_matrix)                    # Matriz de feromonas (inicializada llena de 1s) \n",
    "\n",
    "#--- Inicialización de parámetros ---#\n",
    "n_ants = 30                            # Número de hormigas\n",
    "max_it = 100                           # Número de iteraciones\n",
    "evap_var = 0.3                         # Tasa de evaporación de feromonas\n",
    "Qfer = 1                               # Cantidad de feromonas a depositar\n",
    "alpha = 1                              # Exponente para feromona\n",
    "beta = 1                               # Exponente para distancia\n",
    "best_tour = [None, float('inf')]       # Mejor camino conseguido\n",
    "n_cities = distance_matrix.shape[0]    # Longitud del camino total"
   ]
  },
  {
   "cell_type": "code",
   "execution_count": 240,
   "metadata": {},
   "outputs": [
    {
     "name": "stdout",
     "output_type": "stream",
     "text": [
      "deposit_pheromones_Qcte  -  [ 0  3 12  6  7  5 16 13 14  2 10  9  1  4  8 11 15]  -  2085.0  -  2.3349826335906982 seg.\n",
      "deposit_pheromones_Qvar  -  [ 0  3 12  6  7  5 16 13 14  2 10  9  1  4  8 11 15]  -  2085.0  -  2.3817567825317383 seg.\n",
      "deposit_pheromones_Qltot  -  [ 0 12  3  6  7  5 16 13 14  2 10  4  1  9  8 11 15]  -  2158.0  -  2.547287702560425 seg.\n"
     ]
    }
   ],
   "source": [
    "deposit_func = [deposit_pheromones_Qcte, deposit_pheromones_Qvar, deposit_pheromones_Qltot]\n",
    "for k in range(3):\n",
    "    best_vec = []\n",
    "    best_dis = np.inf\n",
    "    inicio = time.time()\n",
    "\n",
    "    for _ in range(max_it):                                                                      # Por cada época\n",
    "        tour_matrix = np.zeros((n_ants, n_cities), dtype=int)                                        # Determino una estructura para guardar los tours\n",
    "        for i in range(n_ants):                                                                      # Por cada viajante\n",
    "            current_city = 0                                                                             # Determino la ciudad inicial\n",
    "            unvisited_cities = np.arange(current_city+1, len(distance_matrix))                           # Genero un vector de ciudades no visitadas\n",
    "            #print(unvisited_cities)         \n",
    "            for j in range(n_cities-1):                                                                  # Por cada ciudad sin visitar\n",
    "                next_city = select_next_city(current_city, unvisited_cities, pheromone_matrix,             # Determino la próxima ciudad del viajante\n",
    "                                            distance_matrix, alpha, beta)                  \n",
    "                current_city = next_city                                                                   # Avanzo hacia la siguiente ciudad\n",
    "                tour_matrix[i,j+1] = int(next_city)                                                          # Agrego la ciudad de la lista de visitadas   \n",
    "                unvisited_cities = np.delete(unvisited_cities,                                               # Elimino la ciudad de la lista por visitar  \n",
    "                                np.where(unvisited_cities == next_city))             \n",
    "                #print(unvisited_cities)            \n",
    "        pheromone_matrix *= (1-evap_var)                                                            # Evaporación de feromonas anteriores\n",
    "\n",
    "        pheromone_matrix = deposit_func[k](n_ants, n_cities, pheromone_matrix, tour_matrix, Qfer, distance_matrix)     # Depósito de nuevas feromonas\n",
    "        \n",
    "        vec, distance = min_distance(tour_matrix, distance_matrix)\n",
    "        if(best_dis > distance):    # Si distancia mín entre las hormigas para esta iteracion es la distancia mín en historia total, reemplazo\n",
    "            best_dis = distance\n",
    "            best_vec = vec\n",
    "    fin = time.time()\n",
    "    print(deposit_func[k].__name__,' - ',best_vec,' - ',best_dis, ' - ',fin-inicio,'seg.')\n",
    "    \n",
    "    #----------------------- Best distance: 2085 -----------------------#\n",
    "    #------ [ 0  3 12  6  7  5 16 13 14  2 10  9  1  4  8 11 15 ] -------# \n",
    "    #-------------------------------------------------------------------#\n"
   ]
  }
 ],
 "metadata": {
  "kernelspec": {
   "display_name": "Python 3",
   "language": "python",
   "name": "python3"
  },
  "language_info": {
   "codemirror_mode": {
    "name": "ipython",
    "version": 3
   },
   "file_extension": ".py",
   "mimetype": "text/x-python",
   "name": "python",
   "nbconvert_exporter": "python",
   "pygments_lexer": "ipython3",
   "version": "3.11.6"
  }
 },
 "nbformat": 4,
 "nbformat_minor": 2
}
