{
 "cells": [
  {
   "cell_type": "markdown",
   "metadata": {},
   "source": [
    "<p style='text-align: justify;'>\n",
    "<b>Ejercicio 2:</b> Iris  es  el  género  de  una  planta  herbácea  con  flores  que  se  utilizan  en decoración. Dentro de este género existen muy diversas especies, entre las que se han estudiado: Iris setosa, Iris versicolor e Iris virginica (ver Figura 2).\n",
    "Estas tres especies pueden distinguirse según las dimensiones de sus pétalos y sépalos.  Un  grupo  de  investigadores  ha  recopilado  la  información  correspondiente a las longitudes y anchos de los pétalos y sépalos de 50 plantas de cada especie. En el archivo irisbin <i>trn.csv</i> se encuentra el conjunto de entrenamiento, y en irisbin <i>tst.csv</i> el de prueba, generado a partir de estas mediciones  (en  cm),  junto  con  un  código  binario  que  indica  la  clase  de  cada  muestra (especie) reconocida por el grupo de investigadores ([−1, −1, 1] = setosa, [−1, 1, −1] = versicolor, [1, −1, −1] = virginica).\n",
    "Determine la estructura óptima de un perceptrón multicapa para resolver este problema.  Explore  cómo  varía  el  desempeño  al  usar  distintas  tasas  de  aprendizaje,  y  para  cada  caso  grafique  las  curvas  de  error  cuadrático  total  y  error de clasificación en función de las épocas de entrenamiento.</p>"
   ]
  },
  {
   "cell_type": "markdown",
   "metadata": {},
   "source": [
    "#### <b>Librerías</b>"
   ]
  },
  {
   "cell_type": "code",
   "execution_count": 64,
   "metadata": {},
   "outputs": [],
   "source": [
    "import random\n",
    "import csv\n",
    "import numpy as np\n",
    "import matplotlib.pyplot as plt"
   ]
  },
  {
   "cell_type": "markdown",
   "metadata": {},
   "source": [
    "#### **Paso 1:** Inicialización\n",
    "Determino la estructura de mi red neuronal: el número de capas y neuronas para cada capa. En la variable *cant_entradas*, el primer elemento son las entradas x1,x2,... del archivo, mientras que los próximos elementos me determinan la cantidad de neuronas por capa. "
   ]
  },
  {
   "cell_type": "code",
   "execution_count": 65,
   "metadata": {},
   "outputs": [],
   "source": [
    "cant_entradas = np.array([4,2,3]) # Variable a cambiar según mi red neuronal\n",
    "\n",
    "cant_capas = len(cant_entradas) - 1\n",
    "cant_salidas = cant_entradas[cant_capas]"
   ]
  },
  {
   "cell_type": "markdown",
   "metadata": {},
   "source": [
    "Levantamos los datos del archivo .csv, separando en un vector para las entradas y otro para las salidas esperadas. En este caso, entrenamos y probamos el algoritmo con el problema irisben, para lo cual usaremos una red de dos capas y cuatro entradas x_i. La capa de entrada tendrá 2 neuronas y la capa de salida tendrá 3 neuronas para realizar la clasificación. \n",
    "\n",
    "También se podría resolver este problema con una capa de entrada de una sola neurona (arquitectura 1-3) debido a que usamos la función sigmoidea como función de activación y, viendo las gráficas de relación entre las entradas, permitiría clasificar las tres posibles clases en distintos rangos (por ejemplo, la azul en -1, la verde en 1 y la naranja en el medio).\n"
   ]
  },
  {
   "cell_type": "code",
   "execution_count": 66,
   "metadata": {},
   "outputs": [],
   "source": [
    "trn = np.loadtxt('./data/irisbin_trn.csv',delimiter=',')\n",
    "\n",
    "inputs = np.empty(len(trn),dtype=object)      # Vector de entradas\n",
    "yd = np.empty(len(trn),dtype=object)       # Salida esperadas\n",
    "for i in range(len(trn)):\n",
    "    fila = trn[i]\n",
    "    cant_e = cant_entradas[0]   # Cantidad de entradas\n",
    "    yd[i] = fila[cant_e:]\n",
    "    aux = [-1]                  # Añado entrada -1 correspondiente al umbral/sesgo\n",
    "    for j in range(cant_e):\n",
    "        aux.append(fila[j])\n",
    "    inputs[i] = aux             "
   ]
  },
  {
   "cell_type": "markdown",
   "metadata": {},
   "source": [
    "Inicializo al azar las matrices de pesos de cada capa."
   ]
  },
  {
   "cell_type": "code",
   "execution_count": 67,
   "metadata": {},
   "outputs": [
    {
     "name": "stdout",
     "output_type": "stream",
     "text": [
      "[array([[-0.24780944, -0.18027418,  0.42820044, -0.33105727,  0.45423768],\n",
      "       [ 0.1022096 ,  0.04155827,  0.23543435, -0.3836559 ,  0.36685097]]), array([[ 0.3466558 ,  0.13452332, -0.17843861],\n",
      "       [-0.42746034,  0.48177697, -0.48934077],\n",
      "       [ 0.18339565, -0.02088365, -0.48348108]])]\n"
     ]
    }
   ],
   "source": [
    "# Inicializo la matriz de pesos para cada una de las capas.\n",
    "w = []\n",
    "for i in range(len(cant_entradas)-1):\n",
    "    w_aux = np.random.rand(cant_entradas[i+1],cant_entradas[i]+1)-0.5\n",
    "    w.append(w_aux)     # Añado al vector de matrices de pesos\n",
    "\n",
    "# Estructura de la matriz:\n",
    "print(w)\n",
    "# El elemento w_ij = w[i][j] de la matriz me da los pesos correspondientes a la neurona j de la capa i. \n",
    "# El elemento w_ij[k] me da el peso asociado a la entrada k de la neurona j de la capa i.\n",
    "\n",
    "y = np.empty(cant_capas,dtype=object)\n",
    "delta = np.empty(cant_capas,dtype=object)"
   ]
  },
  {
   "cell_type": "markdown",
   "metadata": {},
   "source": [
    "#### **Paso 2:** Entrenamiento\n",
    "Continuando con el algoritmo, realizamos los pasos de propagación hacia adelante, propagación hacia atrás y adaptación de los pesos en distintas épocas para todas las capas de nuestra red neuronal. Realizamos una pasada de aprendizaje y otra de validación para evaluar el desempeño del mismo.\n",
    "\n",
    "Defino funciones auxiliares para la sigmoidea y su derivada a modo de simplificar el código:"
   ]
  },
  {
   "cell_type": "code",
   "execution_count": 68,
   "metadata": {},
   "outputs": [],
   "source": [
    "def sigmoidea(v):\n",
    "    return ((2/(1+np.exp(-v)))-1)\n",
    "\n",
    "def d_sigmoidea(y):\n",
    "    return ((1+y)*(1-y))"
   ]
  },
  {
   "cell_type": "code",
   "execution_count": 69,
   "metadata": {},
   "outputs": [
    {
     "name": "stdout",
     "output_type": "stream",
     "text": [
      "Finalizó el entrenamiento en la época  174  con  1 / 111  errores. Tasa de acierto:  99.1 %\n"
     ]
    }
   ],
   "source": [
    "# DATOS PARA EL ALGORITMO:\n",
    "epoca = 1               # Contador para época actual\n",
    "epoca_max = 2000        # Máximo de iteraciones\n",
    "mu = 0.01               # Velocidad de aprendizaje\n",
    "perc_error_max = 0.03   # Porcentaje máximo de error\n",
    "errores_por_epoca = []\n",
    "mse_por_epoca = []\n",
    "\n",
    "while (epoca < epoca_max):  \n",
    "    \n",
    "    #--------------------------------#\n",
    "    #--------- Aprendizaje ----------#\n",
    "    #--------------------------------#\n",
    "\n",
    "    for patron in range(len(trn)):\n",
    "\n",
    "        # PROPAGACIÓN HACIA ADELANTE: Obtengo la salida de las capas y las propago como entradas de las próximas\n",
    "        entradas = inputs[patron]          # La primera capa tiene las entradas en el archivo .csv\n",
    "        for i in range(cant_capas):\n",
    "            v = w[i]@entradas                  # Producto interno de pesos y entradas\n",
    "            y[i] = sigmoidea(v)              # Salida con función de activación\n",
    "            entradas = np.hstack((-1,y[i]))    # Entrada de la próxima capa es la salida de esta capa\n",
    "\n",
    "        # PROPAGACIÓN HACIA ATRÁS: Obtengo el delta de la capa de salida y lo propago a las capas anteriores\n",
    "        error = yd[patron] - y[-1]                    \n",
    "        delta[-1]=error*(1/2)*d_sigmoidea(y[-1])       # Con el error, obtengo el delta de la capa de salida\n",
    "        for i in range(cant_capas-1,0,-1):\n",
    "            w_i = w[i][:,1:].T                         # No tomo el peso w0 (umbral) porque no tiene delta para propagar\n",
    "            d = np.dot(w_i,delta[i])\n",
    "            delta[i-1] = d*(1/2)*d_sigmoidea(y[i-1])   # Con los pesos de la capa i obtenemos el delta de la capa i-1\n",
    "\n",
    "        # ACTUALIZAR LOS PESOS: Ajusto los pesos con la velocidad de aprendizaje, la entrada y su delta.\n",
    "        entradas = inputs[patron]          # La primera capa tiene las entradas en el archivo .csv\n",
    "        for i in range(cant_capas):\n",
    "            delta_peso = mu*(np.outer(delta[i],entradas))\n",
    "            w[i] += delta_peso\n",
    "            entradas = np.hstack((-1,y[i]))    # Entrada para próxima capa es la salida de esta\n",
    "    \n",
    "    #--------------------------------#\n",
    "    #---------- Evaluación ----------#\n",
    "    #--------------------------------#\n",
    "    cont_errores = 0    # Contador de errores\n",
    "    cont_mse = 0        # Contador para error cuadrático medio\n",
    "\n",
    "    for patron in range(len(trn)): \n",
    "\n",
    "        # PROPAGACIÓN HACIA ADELANTE: Obtengo la salida de las capas y las propago como entradas de las próximas\n",
    "        entradas = inputs[patron]          # La primera capa tiene las entradas en el archivo .csv\n",
    "        for i in range(cant_capas):\n",
    "            v = w[i]@entradas                  # Producto interno de pesos y entradas\n",
    "            y[i] = sigmoidea(v)              # Salida con función de activación\n",
    "            entradas = np.hstack((-1,y[i]))    # Entrada de la próxima capa es la salida de esta capa\n",
    "        \n",
    "        # CODIFICACIÓN: Winner Takes All\n",
    "        yc = np.full(cant_salidas,-1)       # Inicializo todo en -1\n",
    "        index = np.argmax(y[-1])            # Busco índice del máximo de las salidas\n",
    "        yc[index] = 1                       # Seteo en 1 el máximo\n",
    "\n",
    "        # Actualizo contadores de error:\n",
    "        if((yd[patron] != yc).any()): cont_errores += 1\n",
    "        cont_mse += np.sum(np.square(yd[patron]-y[-1])) \n",
    "    \n",
    "    # Actualizo arrays para grafica de error:\n",
    "    mse = cont_mse/len(trn)\n",
    "    mse_por_epoca.append(mse)\n",
    "    perc_error = cont_errores/len(trn)\n",
    "    errores_por_epoca.append(perc_error)\n",
    "\n",
    "    if(perc_error < perc_error_max): break\n",
    "\n",
    "    epoca += 1\n",
    "\n",
    "acierto = (1-cont_errores/len(trn))*100\n",
    "print('Finalizó el entrenamiento en la época ',epoca,' con ',cont_errores,'/',len(trn),' errores. Tasa de acierto: ',round(acierto,2),'%')"
   ]
  },
  {
   "cell_type": "markdown",
   "metadata": {},
   "source": [
    "#### **Paso 3:** Prueba\n",
    "Una vez obtenidos los pesos mediante el entrenamiento, pasamos otro dataset por la red neuronal para probarla. Comenzamos levantando el archivo .csv de la misma forma que para el entrenamiento."
   ]
  },
  {
   "cell_type": "code",
   "execution_count": 70,
   "metadata": {},
   "outputs": [],
   "source": [
    "tst = np.loadtxt('./data/irisbin_tst.csv',delimiter=',')\n",
    "\n",
    "inputs = np.empty(len(trn),dtype=object)   # Vector de entradas\n",
    "yd = np.empty(len(trn),dtype=object)       # Salida esperadas \n",
    "for i in range(len(tst)):\n",
    "    fila = tst[i]\n",
    "    cant_e = cant_entradas[0]   # Cantidad de entradas\n",
    "    yd[i] = fila[cant_e:]     \n",
    "    aux = [-1]                  # Añado entrada -1 correspondiente al umbral/sesgo\n",
    "    for j in range(cant_e):\n",
    "        aux.append(fila[j])\n",
    "    inputs[i] = aux                # Vector de entradas por patrón"
   ]
  },
  {
   "cell_type": "markdown",
   "metadata": {},
   "source": [
    "Realizamos la propagación hacia adelante, manteniendo un contador de errores para determinar la eficiencia del entrenamiento."
   ]
  },
  {
   "cell_type": "code",
   "execution_count": 71,
   "metadata": {},
   "outputs": [
    {
     "name": "stdout",
     "output_type": "stream",
     "text": [
      "Finalizó la prueba con  0 / 38  errores. Tasa de acierto:  100.0 %\n"
     ]
    }
   ],
   "source": [
    "y = np.empty(cant_capas,dtype=object)   # Vector de salidas\n",
    "cont_errores = 0                        # Contador de errores\n",
    "y_saved = []\n",
    "\n",
    "for patron in range(len(tst)): \n",
    "    entradas = inputs[patron]\n",
    "    for i in range(cant_capas):\n",
    "        v = w[i]@entradas                   # Producto interno de pesos y entradas\n",
    "        y[i] = sigmoidea(v)               # Salida con función de activación\n",
    "        entradas = np.hstack((-1,y[i]))     # La entrada de la próxima capa es la salida de la actual.\n",
    "    \n",
    "    # CODIFICACIÓN: Winner Takes All\n",
    "    yc = np.full(cant_salidas,-1)       # Inicializo todo en -1\n",
    "    index = np.argmax(y[-1])            # Busco índice del máximo de las salidas\n",
    "    yc[index] = 1                       # Seteo en 1 el máximo\n",
    "\n",
    "    # Actualizo contadores de error:\n",
    "    if((yd[patron] != yc).any()): cont_errores += 1\n",
    "\n",
    "acierto = (1-cont_errores/len(tst))*100\n",
    "print('Finalizó la prueba con ',cont_errores,'/',len(tst),' errores. Tasa de acierto: ',round(acierto,2),'%')"
   ]
  },
  {
   "cell_type": "markdown",
   "metadata": {},
   "source": [
    "#### **Paso 4:** Grafica\n",
    "Realizamos una gráfica para cada capa. La capa de entrada tendrá graficados los puntos de las entradas del archivo, mientras que las capas subsiguientes graficarán los puntos dados por su capa previa.\n",
    "\n",
    "(Ver gráficas en la carpeta /resultados) Para cualquier arquitectura de la red neuronal, si variamos el parámetro *mu* para la etapa de entrenamiento hay un comportamiento común. \n",
    "- Si el error oscila mucho, la velocidad de aprendizaje es muy alta haciendo que el proceso de entrenamiento sea inestable porque olvida rápidamente lo aprendido previamente y lo reemplaza por lo nuevo. En este caso, podemos disminuir el valor del parámetro para mejorar el desempeño.\n",
    "- Si el error baja muy lentamente, la velocidad de aprendizaje es muy baja y hace que la red aprenda poco en cada nueva época, por lo que si vemos que la gráfica de error tiende a ser constante, podemos aumentar el valor del parámetro para mejorar el desempeño."
   ]
  },
  {
   "cell_type": "code",
   "execution_count": 72,
   "metadata": {},
   "outputs": [
    {
     "data": {
      "image/png": "[encoded data removed]",
      "text/plain": [
       "<Figure size 800x600 with 1 Axes>"
      ]
     },
     "metadata": {},
     "output_type": "display_data"
    }
   ],
   "source": [
    "# GRÁFICAS DE ERROR\n",
    "fig,ax = plt.subplots(figsize=(8,6))\n",
    "x = range(len(errores_por_epoca))\n",
    "\n",
    "ax.set(title=f'Convergencia para estructura 2-3 con µ = {mu}')\n",
    "ax.plot(x, errores_por_epoca, label='Porcentaje de error',color='hotpink')\n",
    "ax.plot(x, mse_por_epoca, label='Error Cuadrático Medio',color='dodgerblue')\n",
    "ax.set_xlabel('Época')\n",
    "ax.legend()\n",
    "bbox_props = dict(boxstyle='round,pad=0.3',facecolor='white',edgecolor='gray',alpha=0.7)\n",
    "plt.text(epoca-epoca*0.25,max(mse_por_epoca)-max(mse_por_epoca)*0.12,f'Tasa de acierto: {round(acierto,2)}%',bbox=bbox_props)\n",
    "plt.tight_layout()\n",
    "plt.savefig('resultados/convergencia.png')\n",
    "plt.show()"
   ]
  }
 ],
 "metadata": {
  "kernelspec": {
   "display_name": "Python 3",
   "language": "python",
   "name": "python3"
  },
  "language_info": {
   "codemirror_mode": {
    "name": "ipython",
    "version": 3
   },
   "file_extension": ".py",
   "mimetype": "text/x-python",
   "name": "python",
   "nbconvert_exporter": "python",
   "pygments_lexer": "ipython3",
   "version": "3.11.5"
  },
  "orig_nbformat": 4
 },
 "nbformat": 4,
 "nbformat_minor": 2
}
