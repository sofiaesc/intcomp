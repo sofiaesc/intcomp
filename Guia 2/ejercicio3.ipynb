{
 "cells": [
  {
   "cell_type": "code",
   "execution_count": null,
   "metadata": {},
   "outputs": [],
   "source": []
  },
  {
   "cell_type": "code",
   "execution_count": null,
   "metadata": {},
   "outputs": [],
   "source": []
  },
  {
   "cell_type": "markdown",
   "metadata": {},
   "source": [
    "Hago tres neuronas de salida, cada una me da una salida. Cuando la primera me da 1, las otras -1 y ahí tengo cierta clase, y así con las tres clases.\n",
    "Puedo hacer también dos neuronas de salida y codificarlo con una tabla de verdad: (-1,1) es una clase, (1,-1) es otra clase y (1,1) es otra clase\n",
    "\n",
    "Codificación Winner Takes All: le pongo 1 a la salida más grande (si tengo 0.8 y 0.1, uso la del 1). Aunque sean las dos positivas, tengo una respuesta.\n",
    "\n",
    "Ahora el error se hace con una sumatoria porque tengo 3 componentes de error (por las 3 salidas)."
   ]
  }
 ],
 "metadata": {
  "language_info": {
   "name": "python"
  },
  "orig_nbformat": 4
 },
 "nbformat": 4,
 "nbformat_minor": 2
}
