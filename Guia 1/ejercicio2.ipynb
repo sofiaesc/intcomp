{
 "cells": [
  {
   "cell_type": "markdown",
   "metadata": {},
   "source": [
    "<p style='text-align: justify;'>\n",
    "<b>Ejercicio 2:</b> Implemente una rutina de graficación que permita visualizar, para el caso de dos entradas, los patrones utilizados y la recta de separación que se va ajustando durante el entrenamiento del perceptrón simple. Utilice dicha rutina para visualizar el entrenamiento en los problemas OR y XOR. </p>"
   ]
  },
  {
   "cell_type": "markdown",
   "metadata": {},
   "source": [
    "#### Librerías"
   ]
  },
  {
   "cell_type": "code",
   "execution_count": 31,
   "metadata": {},
   "outputs": [],
   "source": [
    "import random\n",
    "import numpy as np\n",
    "import csv\n",
    "import matplotlib.pyplot as plt\n",
    "import time\n",
    "import matplotlib.animation as animation"
   ]
  },
  {
   "cell_type": "markdown",
   "metadata": {},
   "source": [
    "#### Entrenamiento\n",
    "Obtenemos las *cant_e* entradas y la salida esperada para cada patrón a partir del archivo de texto *trn*."
   ]
  },
  {
   "cell_type": "code",
   "execution_count": 32,
   "metadata": {},
   "outputs": [],
   "source": [
    "trn = np.loadtxt('./data/OR_trn.csv',delimiter=',')\n",
    "\n",
    "yd = [] # Salida esperadas\n",
    "for i in range(len(trn)): \n",
    "    fila = trn[i]\n",
    "    cant_e = len(fila) - 1 # Cantidad de entradas\n",
    "    yd.append(fila[cant_e]) # Salidas esperadas\n",
    "    aux = [-1]\n",
    "    for j in range(cant_e):\n",
    "        aux.append(fila[j])\n",
    "    trn[i] = aux # Vector de entradas"
   ]
  },
  {
   "cell_type": "markdown",
   "metadata": {},
   "source": [
    "Inicializamos al azar el vector de pesos, cuyo tamaño será la cantidad de entradas más uno (correspondiente al peso w0: sesgo o umbral de la neurona)."
   ]
  },
  {
   "cell_type": "code",
   "execution_count": 33,
   "metadata": {},
   "outputs": [],
   "source": [
    "w = [] # Vector de pesos\n",
    "for i in range(cant_e+1):\n",
    "    aux = random.uniform(-0.5,0.5)\n",
    "    w.append(aux)"
   ]
  },
  {
   "cell_type": "markdown",
   "metadata": {},
   "source": [
    "Se realiza el algoritmo con dos criterios de parada: máximo de épocas (iteraciones) y porcentaje máximo de error. Se guardan los pesos finales registrados para cada época para su posterior graficación."
   ]
  },
  {
   "cell_type": "code",
   "execution_count": 34,
   "metadata": {},
   "outputs": [],
   "source": [
    "epoca = 0\n",
    "epoca_max = 10 # Máximo de iteraciones\n",
    "cont_error = 0\n",
    "gamma = 0.1 # Velocidad de aprendizaje\n",
    "errores = np.zeros(epoca_max)\n",
    "perc_error_max = 0.02 # Porcentaje máximo de error\n",
    "error_max = perc_error_max * len(trn) # Cantidad máxima de errores\n",
    "w_saved = [] # Inicializo vector de pesos guardados\n",
    "w_saved.append(w) # Guardo el primer set de pesos, el inicializado al azar\n",
    "\n",
    "while (epoca < epoca_max):\n",
    "    cont_error = 0\n",
    "    for patron in range(len(trn)):\n",
    "        x = trn[patron] # Entradas\n",
    "        y = w @ x\n",
    "        y = np.sign(y)\n",
    "\n",
    "        error = yd[patron] - y\n",
    "        if error != 0: cont_error += 1 \n",
    "\n",
    "        # w_saved.append(w) # Guardo los pesos por patrón para cada época (más pesado)\n",
    "        w = w + gamma*error*x # Corrijo pesos\n",
    "\n",
    "    w_saved.append(w) # Guardo los pesos finales para esta epoca\n",
    "    errores[epoca] = cont_error\n",
    "    if cont_error < error_max: break\n",
    "    epoca += 1"
   ]
  },
  {
   "cell_type": "markdown",
   "metadata": {},
   "source": [
    "### Animación\n",
    "Graficamos los puntos correspondientes a las entradas en el archivo de texto. De color azul se grafican aquellos cuya salida esperada es +1, mientras que de color rojo se grafican aquellos con salida esperada de -1. Además, graficamos la recta de separación y animamos los cambios en la misma dados por los pesos (que conforman sus coeficientes)."
   ]
  },
  {
   "cell_type": "code",
   "execution_count": 35,
   "metadata": {},
   "outputs": [
    {
     "data": {
      "image/png": "[encoded data removed]",
      "text/plain": [
       "<Figure size 640x480 with 1 Axes>"
      ]
     },
     "metadata": {},
     "output_type": "display_data"
    }
   ],
   "source": [
    "fig,ax = plt.subplots()\n",
    "ax.set(xlim=[-2,2],ylim=[-2,2],xlabel='x1',ylabel='x2',title='Evolución de la recta de separación')\n",
    "\n",
    "# PUNTOS:\n",
    "for i in range(len(trn)):\n",
    "    if yd[i] == -1: # Según resultado esperado de la entrada:\n",
    "        ax.scatter(trn[i,1], trn[i,2], color='red') \n",
    "    else:\n",
    "        ax.scatter(trn[i,1], trn[i,2], color='blue') \n",
    "\n",
    "# RECTA:\n",
    "x1 = np.linspace(-2, 2, 100)\n",
    "w = w_saved[0][:]\n",
    "recta = w[0]/w[2] - (w[1]/w[2])*x1 \n",
    "line, = ax.plot(x1,recta)\n",
    "def update(frame): # Actualizo la recta de separación\n",
    "    w = w_saved[frame][:]\n",
    "    recta = w[0]/w[2] - (w[1]/w[2])*x1\n",
    "    line.set_ydata(recta)\n",
    "    return line,\n",
    "\n",
    "ani = animation.FuncAnimation(fig=fig,func=update,frames=len(w_saved),interval=20,repeat=False)\n",
    "plt.show()\n",
    "\n",
    "writergif = animation.PillowWriter(fps=5)\n",
    "ani.save('./resultados/animacion.gif',writer=writergif)"
   ]
  }
 ],
 "metadata": {
  "kernelspec": {
   "display_name": "Python 3",
   "language": "python",
   "name": "python3"
  },
  "language_info": {
   "codemirror_mode": {
    "name": "ipython",
    "version": 3
   },
   "file_extension": ".py",
   "mimetype": "text/x-python",
   "name": "python",
   "nbconvert_exporter": "python",
   "pygments_lexer": "ipython3",
   "version": "3.11.4"
  },
  "orig_nbformat": 4
 },
 "nbformat": 4,
 "nbformat_minor": 2
}
