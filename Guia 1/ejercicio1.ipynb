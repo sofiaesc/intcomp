{
 "cells": [
  {
   "cell_type": "markdown",
   "metadata": {},
   "source": [
    "**Ejercicio 1:** Implemente rutinas que permitan el entrenamiento y prueba de un perceptrón simple con una cantidad variable de entradas. Se deben tener en cuenta las siguientes capacidades: \n",
    "- lectura de los patrones de entrenamiento (entradas y salidas) desde un archivo en formato texto separado por comas,\n",
    "- selección del criterio de finalización del entrenamiento y el número máximo de épocas,\n",
    "- selección de la tasa de aprendizaje,\n",
    "- prueba del perceptrón entrenado mediante archivos de texto con el mismo formato separado por comas.\n",
    "Una vez obtenido dicho programa, pruébelo en la resoluci ́on del problema OR, utilizando los archivos de patrones OR trn.csv y OR tst.csv para el entrenamiento y la prueba, respectivamente."
   ]
  },
  {
   "cell_type": "markdown",
   "metadata": {},
   "source": [
    "#### Librerías"
   ]
  },
  {
   "cell_type": "code",
   "execution_count": 53,
   "metadata": {
    "tags": []
   },
   "outputs": [],
   "source": [
    "import random\n",
    "import numpy as np\n",
    "import csv\n",
    "import matplotlib.pyplot as plt"
   ]
  },
  {
   "cell_type": "markdown",
   "metadata": {},
   "source": [
    "#### Entrenamiento\n",
    "Obtenemos las *cant_e* entradas y la salida esperada para cada patrón a partir del archivo de texto *trn*."
   ]
  },
  {
   "cell_type": "code",
   "execution_count": 54,
   "metadata": {},
   "outputs": [],
   "source": [
    "trn = np.loadtxt('./data/OR_trn.csv',delimiter=',')\n",
    "\n",
    "yd = [] # Salida esperadas\n",
    "for i in range(len(trn)): \n",
    "    fila = trn[i]\n",
    "    cant_e = len(fila) - 1 # Cantidad de entradas\n",
    "    yd.append(fila[cant_e]) # Salidas esperadas\n",
    "    aux = [-1]\n",
    "    for j in range(cant_e):\n",
    "        aux.append(fila[j])\n",
    "    trn[i] = aux # Vector de entradas"
   ]
  },
  {
   "cell_type": "markdown",
   "metadata": {},
   "source": [
    "Inicializamos al azar el vector de pesos, cuyo tamaño será la cantidad de entradas más uno (correspondiente al peso w0: sesgo o umbral de la neurona)."
   ]
  },
  {
   "cell_type": "code",
   "execution_count": 55,
   "metadata": {},
   "outputs": [],
   "source": [
    "w = [] # Vector de pesos\n",
    "for i in range(cant_e+1):\n",
    "    aux = random.uniform(-0.5,0.5)\n",
    "    w.append(aux)"
   ]
  },
  {
   "cell_type": "markdown",
   "metadata": {},
   "source": [
    "Se realiza el algoritmo con dos criterios de parada: máximo de épocas (iteraciones) y porcentaje máximo de error."
   ]
  },
  {
   "cell_type": "code",
   "execution_count": 56,
   "metadata": {},
   "outputs": [],
   "source": [
    "epoca = 0\n",
    "epoca_max = 10 # Máximo de iteraciones\n",
    "cont_error = 0\n",
    "gamma = 0.1 # Velocidad de aprendizaje\n",
    "errores = np.zeros(epoca_max)\n",
    "perc_error_max = 0.02 # Porcentaje máximo de error\n",
    "error_max = perc_error_max * len(trn) # Cantidad máxima de errores\n",
    "\n",
    "while (epoca < epoca_max):\n",
    "    cont_error = 0\n",
    "    for patron in range(len(trn)):\n",
    "        x = trn[patron] # Entradas\n",
    "        y = w @ x\n",
    "        y = np.sign(y)\n",
    "\n",
    "        error = yd[patron] - y\n",
    "        if error != 0: cont_error += 1 \n",
    "\n",
    "        w = w + gamma*error*x # Corrijo pesos\n",
    "\n",
    "    errores[epoca] = cont_error\n",
    "    if cont_error < error_max: break\n",
    "    epoca += 1"
   ]
  },
  {
   "cell_type": "markdown",
   "metadata": {},
   "source": [
    "Obtenemos gráfica del error en el entrenamiento a medida que pasan las épocas."
   ]
  },
  {
   "cell_type": "code",
   "execution_count": 57,
   "metadata": {},
   "outputs": [
    {
     "data": {
      "image/png": "[encoded data removed]",
      "text/plain": [
       "<Figure size 640x480 with 1 Axes>"
      ]
     },
     "metadata": {},
     "output_type": "display_data"
    }
   ],
   "source": [
    "fig,ax = plt.subplots()\n",
    "plt.plot(range(epoca_max),errores)\n",
    "ax.set(xlabel = 'Epoca',ylabel='Cantidad de errores')\n",
    "plt.title('Cantidad de errores en entrenamiento')\n",
    "ax.grid()\n",
    "plt.show()"
   ]
  },
  {
   "cell_type": "markdown",
   "metadata": {},
   "source": [
    "#### Prueba\n",
    "Repetimos el proceso de carga de datos y paso los patrones por la red obtenida para evaluar el desempeño de la misma."
   ]
  },
  {
   "cell_type": "code",
   "execution_count": 58,
   "metadata": {},
   "outputs": [
    {
     "name": "stdout",
     "output_type": "stream",
     "text": [
      "Pesos: [-0.41081841  0.23122433  0.20313786]\n",
      "Cantidad de errores en la prueba: 0 / 200\n"
     ]
    }
   ],
   "source": [
    "tst = np.loadtxt('./data/OR_tst.csv',delimiter=',')\n",
    "\n",
    "yd = [] # Salida esperadas\n",
    "for i in range(len(tst)): \n",
    "    fila = tst[i]\n",
    "    cant_e = len(fila) - 1 # Cantidad de entradas\n",
    "    yd.append(fila[cant_e]) # Salidas esperadas\n",
    "    aux = [-1]\n",
    "    for j in range(cant_e):\n",
    "        aux.append(fila[j])\n",
    "    tst[i] = aux # Vector de entradas\n",
    "\n",
    "cont_error = 0\n",
    "for patron in range(len(tst)):\n",
    "    x = tst[patron] # Entradas\n",
    "    y = w @ x\n",
    "    y = np.sign(y)\n",
    "\n",
    "    error = yd[patron] - y\n",
    "    if error != 0: cont_error += 1\n",
    "\n",
    "print('Pesos:',w)\n",
    "print('Cantidad de errores en la prueba:',cont_error,'/',len(tst))"
   ]
  }
 ],
 "metadata": {
  "kernelspec": {
   "display_name": "Python 3",
   "language": "python",
   "name": "python3"
  },
  "language_info": {
   "codemirror_mode": {
    "name": "ipython",
    "version": 3
   },
   "file_extension": ".py",
   "mimetype": "text/x-python",
   "name": "python",
   "nbconvert_exporter": "python",
   "pygments_lexer": "ipython3",
   "version": "3.11.4"
  },
  "orig_nbformat": 4
 },
 "nbformat": 4,
 "nbformat_minor": 2
}
