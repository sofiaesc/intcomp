{
 "cells": [
  {
   "cell_type": "markdown",
   "metadata": {},
   "source": [
    "**Ejercicio 2:** Diseñe e implemente un algoritmo genético que busque el mejor subconjunto de características para la clasificación de cáncer (leucemia linfocítica aguda y leucemia mielógena aguda) a partir de datos genómicos. Se proveen 38 muestras en el conjunto de entrenamiento y 34 en el conjunto de prueba (leukemia train.csv y leukemia test.csv, respectivamente). Cada muestra se compone de un total de 7129 características, que corresponden a valores de expresión génica"
   ]
  },
  {
   "cell_type": "markdown",
   "metadata": {},
   "source": [
    "#### **Librerías**"
   ]
  },
  {
   "cell_type": "code",
   "execution_count": 84,
   "metadata": {},
   "outputs": [],
   "source": [
    "import random as rdm\n",
    "import numpy as np\n",
    "import warnings\n",
    "import sklearn.svm as svm\n",
    "import sklearn.metrics as metrics\n",
    "from sklearn import metrics, svm\n",
    "import matplotlib.pyplot as plt\n",
    "from sklearn.neural_network import MLPClassifier\n",
    "\n",
    "warnings.filterwarnings(\"ignore\") # Se desactivan warnings de conversion de datos\n"
   ]
  },
  {
   "cell_type": "markdown",
   "metadata": {},
   "source": [
    "<h4><b>Algoritmo</b></h2>\n"
   ]
  },
  {
   "cell_type": "code",
   "execution_count": 85,
   "metadata": {},
   "outputs": [],
   "source": [
    "# ESTA FUNCION NO HACE FALTA YA QUE LA EVALUACION CONVIENE HACERLA EN BINARIO NOMAS\n",
    "\n",
    "def decodif(poblacion):     # Pasa la población del genotipo (binario) al fenotipo (decimal)\n",
    "    poblacion_dec = []\n",
    "    for genotipo in poblacion:\n",
    "        decimal = int(genotipo[1:-4], 2) + 0.1*int(genotipo[-4:],2)   # Convierte la cadena binaria a un entero\n",
    "        if genotipo[0] == '1':\n",
    "            poblacion_dec.append(-decimal)\n",
    "        else:\n",
    "            poblacion_dec.append(decimal)\n",
    "    return poblacion_dec"
   ]
  },
  {
   "cell_type": "code",
   "execution_count": 86,
   "metadata": {},
   "outputs": [],
   "source": [
    "def competencias(aptitudes,k=2):\n",
    "    competidores = np.random.randint(0,len(aptitudes),(2,1))\n",
    "    ganador = np.argmax(aptitudes[competidores])\n",
    "    return ganador"
   ]
  },
  {
   "cell_type": "code",
   "execution_count": 87,
   "metadata": {},
   "outputs": [],
   "source": [
    "def cruza(padre,madre,prob):\n",
    "    prob_i = np.random.rand()\n",
    "    if prob_i < prob:\n",
    "        punto_corte = rdm.randint(1,len(padre))\n",
    "        hijo1 = padre[:punto_corte] + madre[punto_corte:]\n",
    "        hijo2 = madre[:punto_corte] + padre[punto_corte:]\n",
    "        #hijo1 = np.concatenate((padre[:punto_corte], madre[punto_corte:]))\n",
    "        #hijo2 = np.concatenate((madre[:punto_corte], padre[punto_corte:]))\n",
    "    else:\n",
    "        hijo1 = padre\n",
    "        hijo2 = madre\n",
    "    return hijo1,hijo2\n",
    "\n",
    "def mutacion(individuo,prob):   # Le paso probabilidad a nivel de individuo\n",
    "    prob_i = np.random.rand()\n",
    "    if prob_i < prob:\n",
    "        pos = np.random.choice(len(individuo))\n",
    "        individuo_aux = list(individuo)\n",
    "        if(individuo_aux[pos] == '0'):\n",
    "            individuo_aux[pos] = '1'\n",
    "        else:\n",
    "            individuo_aux[pos] = '0'\n",
    "\n",
    "        individuo = ''.join(individuo_aux) \n",
    "    return individuo"
   ]
  },
  {
   "cell_type": "code",
   "execution_count": 88,
   "metadata": {},
   "outputs": [],
   "source": [
    "def elitismo(poblacion,aptitudes):\n",
    "    apt_aux = list(enumerate(aptitudes))\n",
    "    ordenados = sorted(apt_aux,key=lambda x: x[1], reverse=True)\n",
    "    idx1 = ordenados[0][0]  # Mayor aptitud\n",
    "    idx2 = ordenados[1][0]  # Segunda mayor aptitud\n",
    "    return poblacion[idx1],poblacion[idx2]  # Devuelve los índices de los individuos "
   ]
  },
  {
   "cell_type": "code",
   "execution_count": 89,
   "metadata": {},
   "outputs": [],
   "source": [
    "def algoritmo_genetico(size_p,bits,max_gen,max_estable,func_aptitud,prob_mutacion,prob_cruza,train_input,train_yd,monitor_input,monitor_yd,alpha,beta):\n",
    "\n",
    "    v_fitness_completo = []\n",
    "    # PASO 1: Inicialización de la población\n",
    "    poblacion = []\n",
    "    for i in range(size_p):\n",
    "        ind_aux = ['0' for _ in range(bits)]\n",
    "        numeros_aleatorios = rdm.sample(range(bits - 1), 27)\n",
    "        for j in numeros_aleatorios:\n",
    "            aux = rdm.random()\n",
    "            if aux < 0.90:\n",
    "                ind_aux[j] = '1'\n",
    "        poblacion.append(''.join(ind_aux))\n",
    "    #print(poblacion[0])\n",
    "    #for individuo in poblacion:\n",
    "    #    if int(individuo[-4],2) > 9:\n",
    "    #        individuo = individuo[:-4] + '1001' # Que no pase de 9 la parte decimal\n",
    "            \n",
    "    cont_estabilidad = 0\n",
    "    apt_max = 1e-6\n",
    "\n",
    "    #print(len(poblacion),',',len(poblacion[0]))\n",
    "    \n",
    "    for gen in range(max_gen):\n",
    "        #poblacion_dec = decodif(poblacion)        # Decodifico para pasarselo a la función de aptitud\n",
    "        aptitudes = func_aptitud(poblacion, train_input, train_yd, monitor_input, monitor_yd, alpha, beta)\n",
    "        nueva_pob = []\n",
    "        v_fitness_completo = np.concatenate((v_fitness_completo, aptitudes), axis=0)\n",
    "        # Elitismo\n",
    "        mejor1,mejor2 = elitismo(poblacion,aptitudes)\n",
    "        nueva_pob.append(mejor1)\n",
    "        nueva_pob.append(mejor2)\n",
    "        \n",
    "        while(len(nueva_pob) < len(poblacion)):\n",
    "            # PASO 2: Selección (elegimos uno de los métodos propuestos en funciones auxiliares):\n",
    "            padre = poblacion[competencias(aptitudes,4)]\n",
    "            madre = poblacion[competencias(aptitudes,4)]\n",
    "            # PASO 3: CRUZA (me va a devolver los hijos cruzados o los padres, depende probabilidad)\n",
    "            hijo1, hijo2 = cruza(padre,madre,prob_cruza)               \n",
    "            # PASO 4: MUTACION (me va a devolver hijos mutados o no, depende probabilidad)  \n",
    "            hijo1 = mutacion(hijo1,prob_mutacion)   \n",
    "            hijo2 = mutacion(hijo2,prob_mutacion)\n",
    "            # Los agrego a la nueva generación      \n",
    "            nueva_pob.append(hijo1)\n",
    "            nueva_pob.append(hijo2)\n",
    "\n",
    "        # PASO 5: EVALUACIÓN (vemos si se estabilizó por elitismo)\n",
    "        if(max(aptitudes) == apt_max):\n",
    "            cont_estabilidad += 1\n",
    "        else:\n",
    "            cont_estabilidad = 0\n",
    "        if(cont_estabilidad >= max_estable):\n",
    "            break\n",
    "\n",
    "        poblacion = nueva_pob\n",
    "        apt_max = max(aptitudes)\n",
    "\n",
    "    #poblacion_dec = decodif(poblacion)\n",
    "    print('El algoritmo terminó en la generación',gen)\n",
    "    apt_aux = list(enumerate(aptitudes))\n",
    "    ordenados = sorted(apt_aux,key=lambda x: x[1], reverse=True)\n",
    "    idx = ordenados[0][0]\n",
    "    return poblacion[idx], v_fitness_completo"
   ]
  },
  {
   "cell_type": "code",
   "execution_count": 90,
   "metadata": {},
   "outputs": [],
   "source": [
    "def func_aptitud(poblacion, train_input, train_yd, monitor_input, monitor_yd, alpha, beta):\n",
    "    v_fitness = np.zeros(len(poblacion))\n",
    "    \n",
    "    for i, cadena in enumerate(poblacion):\n",
    "        v_aux = []\n",
    "        for j, bit in enumerate(cadena):\n",
    "            if bit == '1':\n",
    "                v_aux.append(j)\n",
    "        #print(v_aux)\n",
    "        new_train_input = train_input[:, v_aux]\n",
    "        new_monitor_input = monitor_input[:, v_aux]\n",
    "        \n",
    "        clf = svm.SVC()\n",
    "        clf.fit(new_train_input, train_yd)      # ya hace monitoreo solo, podemos sacar esa parte\n",
    "        y_pred = clf.predict(new_monitor_input)\n",
    "        \n",
    "        fitness = metrics.f1_score(np.ravel(monitor_yd), y_pred)    \n",
    "        \n",
    "        long_t = len(train_input[0])\n",
    "        long_g = len(new_train_input[0])\n",
    "        \n",
    "        #print(alpha * fitness, beta * (long_g / long_t))\n",
    "        \n",
    "        v_fitness[i] = alpha * fitness - beta * (long_g / long_t)\n",
    "    #for _ in range(len(v_fitness)):\n",
    "        #print(v_fitness)\n",
    "    return v_fitness\n"
   ]
  },
  {
   "cell_type": "code",
   "execution_count": 91,
   "metadata": {},
   "outputs": [
    {
     "name": "stdout",
     "output_type": "stream",
     "text": [
      "El algoritmo terminó en la generación 84\n",
      "0000000000000000000000000000000000000000000000000000000000000000000000000000000000000000000000000000000000000000010000000000000000000000000000000000000000000000000000000000000000000000000100000000000000000000000000000000000000000000000000000000000000000000000000000000000000000000000000000000000000000000000000000000000000000000000000000100000000000000000000000000000000000000000000000000000100000000000000000000000000000000000000000000000000000000000000000000000000000000000000000000000000000000000000000000000000000000000000000000000000000000000000000000000000000000000000000000000000000000000000000000000000000000000000000000000000000000000001000000000000000000000000000000000000000000000000000000000000000000000000000000000000000000000000000000000000000000000000000000000000000000000000000000000000000000000000000000000000000000000000000000000000000000000000000000000000000000000000000000000000000000000000000000000000000000000000000000000000000000000000000000000000000000000000000000000100000000000000000000000000000000000000000000000000000000000000000000000000000000000000000000000000000000000000000000000000000000000000000000000000000000000000000000000000000000000000000000000000000000000000000000000000000000000000000000000000000000000000000000000000000000000000000000000000000000000000000000000000000000000000000000000000000000000000000000000000000000000000000000000000000000000000000000000000000000000000000000000000000000000000000000000000000000000000000000000000000000000000000000000000000000000000000000000000000000000000000000000000000000000000000000000000000000000000000000000000000000000000000000000000000000000000000000000000000000000000000000000000000000000000000000000000000000000000000000000000000000000000000000000000000000000000000000000000000000000000001000000000000000000000000000000000000000000000000000000000000000000000000000000000000000000000000000100000000000000000000000000000000000000000000000000000000000000000000000000000000000000000000000000000000000000000000000000000000000000000000000000000000000000000000010000000000000000000000000000000000000000000000000000000000000000000000000000000000000000000000000000000000000000000000000000000000000000000000000000000000000000000000000000000000000000000000000000000000000000000000000000000000000000000000000000000000000000000000000000000000000000000000000000000000000000000000000000000000000000000000000000000000000000000000000000000000000000000000000000000000000000000000000000000000000000000000000000000000000000000000000000000000000000000000000000000000000000000000000000000000000000000000000100000000000000000000000000000000000000000000000000000000000000000000000000000000000000000000000000000000000000000000000000000000000000000000000000000000000000000000000000000000000000000000000000000000000000000000000000000000000000000000000000000000000000000000000000000000000000000000000000000000000000000000000000000000000000000000000000000000000000000000000000000000000000000000000000000000000000000000000000000000000000000000000000000000000000000000000000000000000000000000000000000000000000000000010000000000000000000000000000000000000000000000000000000000000000000000000000000000000000000000000000000000000000000000000000000000000000000000000000000000000000000000000000000000000000000000000000000000000000000000000000000000000000000000000000000000000000000000000000000000000000000000000000000000000000000000000000000000000000000000000000000000000000000000000000000000000000000000000000000000000000000000000000000000000000000000000000000000000000000000000000000000000000000000000001000000000000000000000000000000000000000000000000000000000000000000000000000000000000000000000000000000000000000000000000000000000000000000000000000000000000000000000000000000000000000000000000000000000000000000000000000000000000000000000000000000000000000000000000000000000000000000000000000000000000000000000000000000000000000000000000000000000000000000000000000000000000000000000000000000000000000000000000000000000000000000000000000000000000000000000000000000000000000000000000000000000000000000000000000000000000000000000000000000000000000000000000000000000000000000000000000000000000000000000000000000000000000000000000000000000000000000000000000000000000000000000000000000000000000000000000000000000000000000000000000000010000000000000000000000000000000000000000000000000000000000000000000000000000000000000000000000000000000000000000000000000000000000000000000000000000000000000000000000000000000000000000000000000000000000000000000000000000000000000000000000000000000000000000000000000000000000000000000000000000000000000000000000000000000000000000000000000000000000000000000000000000000000000000000000000000000000000000000000000000000000000000000000000000000000000000000000000000000000000000000000000000000000000000000000000000000000000000000000000000000000000000000000000000000000000000000000000000000000000000000000000000000000000000000000000000000000000000000000000000000000000000000000000000000000000000000000000000000000000000000000000000000000000000000000000000000000000000000000000000000000000000000000000000000000000000000000000000000000000000000000000000000000000000000000000000000000000000000000000000000000000000000000000000000000000000000000000000000000000000000000000000000000000000000100000000000000000000000000000000000000000000000000000000000000000000000000000000000000000000000000000000000000000000000000000000000000000000000000000000000000000000000000000000000000000000000000000000000000000000000000000000000000000000000000000000000000000000000000000000000000000000000000000000000000000000000000000000000000000000000000000000000000000000000000000000000000000000000000000010000000000000000000000000000000000000000000000000000000000000000000000000000000000000000000000000000000000000000000000000000000000000000000000000000000000000000000000000000000000000000000000000000000000000000000000000000000000000000000000000000000000000000000000000000000000000000000000000000000000000000000000000000000000000000000000010000000000000000000000000000000000000000000000000000000000000000000000000000000000000000000000000000000000000000000000000000000000000000000000000000000000000000000000000000000000000000000000000000000000000000000000000000000000000000000000000000000000000000000000000000000000000000000000000000000000000000000000000000000000000000000000000000000000000000000000000000000000000000000000000000000000000000000000000000000000000000000000000000000000000000000000000000000000000000000000000000000000000000000000000000000000000000000000000000000000000000000000000000000000000000000000000000000000000000000000000000000000000000000000000000000000000000000000000000000000000000000000000000000000000000000000000000000000000000000000000000000000000000000000000000000000000000000000000000000000000000000000000000000000000000000000000000000000000000000000000000000000000000000000000000000000000000000000000000000000000000000000000000000000000000000000000000000000000000000000000000000000000000000000000000000000000000000000000000000000000000000000000000000000000000000000000000000000000000000000000000000000000000000000000000000000000000000000000000000\n"
     ]
    }
   ],
   "source": [
    "#--- Parámetros del modelo ---#\n",
    "size_p = 20\n",
    "bits = 7129\n",
    "max_gen = 1000\n",
    "max_estable = 50\n",
    "prob_mutacion = 0.1\n",
    "prob_cruza = 0.7\n",
    "alpha = 0.9\n",
    "beta = 0.1\n",
    "\n",
    "#--- Carga de datos ---#\n",
    "train_data = np.loadtxt('./data/leukemia_train.csv', delimiter=',')\n",
    "test_data = np.loadtxt('./data/leukemia_test.csv', delimiter=',')\n",
    "monitor_data = np.empty((0, train_data.shape[1]))  # Inicializa monitor_data como una matriz vacía\n",
    "\n",
    "#--- Separación de datos para monitoreo ---#\n",
    "n_monitor = 10\n",
    "for i in range(n_monitor):\n",
    "    idx = rdm.randint(0, train_data.shape[0] - 1)              # Determina una fila aleatoria para pasar a monitorio\n",
    "    monitor_data = np.vstack([monitor_data, train_data[idx]])  # Agrega la fila al monitoreo\n",
    "    train_data = np.delete(train_data, idx, axis=0)            # Elmina la fila de los datos de train\n",
    "\n",
    "#--- Separación de la data en entradas y salidas ---#\n",
    "train_input = train_data[:, :-1]\n",
    "train_yd = train_data[:, -1].reshape(-1, 1)\n",
    "monitor_input = monitor_data[:, :-1]\n",
    "monitor_yd = monitor_data[:, -1].reshape(-1, 1)\n",
    "test_input = test_data[:, :-1]\n",
    "test_yd = test_data[:, -1].reshape(-1, 1)\n",
    "\n",
    "ganador, vector_fitness_completo = algoritmo_genetico(size_p,bits,max_gen,max_estable,func_aptitud,prob_mutacion,prob_cruza,train_input,train_yd,monitor_input,monitor_yd,alpha,beta)\n",
    "print(ganador)\n",
    "\n",
    "#plt.plot(vector_fitness_completo)\n"
   ]
  },
  {
   "cell_type": "code",
   "execution_count": 92,
   "metadata": {},
   "outputs": [
    {
     "name": "stdout",
     "output_type": "stream",
     "text": [
      "[113, 187, 337, 391, 645, 991, 1776, 1876, 2042, 2572, 3074, 3558, 4286, 5266, 5657, 5993]\n",
      "0.3333333333333333\n"
     ]
    }
   ],
   "source": [
    "v_indices = []\n",
    "for i in range (len(ganador)):\n",
    "    if(ganador[i] == '1'):\n",
    "        v_indices.append(i)\n",
    "print(v_indices)\n",
    "\n",
    "len(v_indices)\n",
    "\n",
    "clf = svm.SVC()\n",
    "clf.fit(train_input[:, v_indices], np.ravel(train_yd))\n",
    "y_pred = clf.predict(test_input[:, v_indices])\n",
    "\n",
    "fitness = metrics.f1_score(np.ravel(test_yd), y_pred)\n",
    "print(fitness)"
   ]
  },
  {
   "cell_type": "code",
   "execution_count": 93,
   "metadata": {},
   "outputs": [
    {
     "name": "stdout",
     "output_type": "stream",
     "text": [
      "0.0\n"
     ]
    }
   ],
   "source": [
    "clf = svm.SVC()\n",
    "clf.fit(train_input, np.ravel(train_yd))\n",
    "y_pred = clf.predict(test_input)\n",
    "\n",
    "fitness = metrics.f1_score(np.ravel(test_yd), y_pred)\n",
    "print(fitness)"
   ]
  }
 ],
 "metadata": {
  "kernelspec": {
   "display_name": "Python 3",
   "language": "python",
   "name": "python3"
  },
  "language_info": {
   "codemirror_mode": {
    "name": "ipython",
    "version": 3
   },
   "file_extension": ".py",
   "mimetype": "text/x-python",
   "name": "python",
   "nbconvert_exporter": "python",
   "pygments_lexer": "ipython3",
   "version": "3.11.6"
  }
 },
 "nbformat": 4,
 "nbformat_minor": 2
}
