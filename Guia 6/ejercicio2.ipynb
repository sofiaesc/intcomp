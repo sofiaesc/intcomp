{
 "cells": [
  {
   "cell_type": "code",
   "execution_count": 7,
   "metadata": {},
   "outputs": [
    {
     "name": "stdout",
     "output_type": "stream",
     "text": [
      "Estructura de train_input:   (28, 7129)\n",
      "Estructura de train_yd:      (28, 1)\n",
      "Estructura de monitor_input: (10, 7129)\n",
      "Estructura de monitor_yd:    (10, 1)\n",
      "Estructura de test_input:    (34, 7129)\n",
      "Estructura de test_yd:       (34, 1)\n",
      "Numero de pruebas necesarias para sub-optimal search con 30 features:  1.3824893497630198e+83\n"
     ]
    }
   ],
   "source": [
    "from sklearn.neural_network import MLPClassifier\n",
    "from sklearn.metrics import accuracy_score\n",
    "import random as rdm\n",
    "import numpy as np\n",
    "import math\n",
    "import warnings\n",
    "\n",
    "warnings.filterwarnings(\"ignore\") # Se desactivan warnings de conversion de datos\n",
    "\n",
    "#--- Carga de datos ---#\n",
    "train_data = np.loadtxt('./data/leukemia_train.csv', delimiter=',')\n",
    "test_data = np.loadtxt('./data/leukemia_test.csv', delimiter=',')\n",
    "monitor_data = np.empty((0, train_data.shape[1]))  # Inicializa monitor_data como una matriz vacía\n",
    "\n",
    "#--- Separación de datos para monitoreo ---#\n",
    "n_monitor = 10\n",
    "for i in range(n_monitor):\n",
    "    idx = rdm.randint(0, train_data.shape[0] - 1)              # Determina una fila aleatoria para pasar a monitorio\n",
    "    monitor_data = np.vstack([monitor_data, train_data[idx]])  # Agrega la fila al monitoreo\n",
    "    train_data = np.delete(train_data, idx, axis=0)            # Elmina la fila de los datos de train\n",
    "\n",
    "#--- Separación de la data en entradas y salidas ---#\n",
    "train_input = train_data[:, :-1]\n",
    "train_yd = train_data[:, -1].reshape(-1, 1)\n",
    "monitor_input = monitor_data[:, :-1]\n",
    "monitor_yd = monitor_data[:, -1].reshape(-1, 1)\n",
    "test_input = test_data[:, :-1]\n",
    "test_yd = test_data[:, -1].reshape(-1, 1)\n",
    "\n",
    "print(\"Estructura de train_input:  \", train_input.shape)\n",
    "print(\"Estructura de train_yd:     \", train_yd.shape)\n",
    "print(\"Estructura de monitor_input:\", monitor_input.shape)\n",
    "print(\"Estructura de monitor_yd:   \", monitor_yd.shape)\n",
    "print(\"Estructura de test_input:   \", test_input.shape)\n",
    "print(\"Estructura de test_yd:      \", test_yd.shape)\n",
    "\n",
    "m = train_input.shape[1]\n",
    "l = 30\n",
    "suboptimal = math.factorial(m)/(math.factorial(l)*math.factorial(m-l))\n",
    "print(\"Numero de pruebas necesarias para sub-optimal search con\", l, \"features: \", suboptimal)"
   ]
  },
  {
   "cell_type": "code",
   "execution_count": 8,
   "metadata": {},
   "outputs": [
    {
     "name": "stdout",
     "output_type": "stream",
     "text": [
      "El mayor valor de fitness conseguido fue: 0.9997475101697293\n",
      "Para una matriz que considera los índices: [593, 1130, 1186, 1332, 1753, 2651, 2786, 3168, 3796, 4216, 4765, 4786, 5089, 5743, 5953, 6188, 6804, 6964]\n"
     ]
    }
   ],
   "source": [
    "\n",
    "#---------------------------#\n",
    "#--- Sección de training ---#\n",
    "#---------------------------#\n",
    "\n",
    "#--- Inicialización de parámetros ---#\n",
    "alpha = 1\n",
    "beta = 0.1\n",
    "best_fitness = -1\n",
    "\n",
    "cant_features_tot = train_input.shape[1]  # Se guarda el valor de las features totales de la matriz original \n",
    "\n",
    "#--- Algoritmo de reducción de features ---#\n",
    "for i in range(train_input.shape[0]):                       # Se recorren todos los patrones\n",
    "    column_indices = []\n",
    "    for j in range(train_input.shape[1]):                   # Se recorren todos los bits del patron\n",
    "        if train_input[i][j] == 1:\n",
    "            column_indices.append(j)                        # Si el bit es igual a 1 se guarda en el vector de indices\n",
    "    input_less_features = train_input[:, column_indices]    # Se genera una nueva matriz que sólo tiene las columnas de interés\n",
    "\n",
    "    cant_features_new = input_less_features.shape[1]        # Se guarda el valor de las features utilizadas en la nueva matriz\n",
    "    \n",
    "    if(cant_features_new == 0):\n",
    "        continue                                            # Saltea la iteración si toda la entrada es únicamente 0s\n",
    "    else: \n",
    "        # Configurar el modelo MLP\n",
    "        mlp = MLPClassifier(hidden_layer_sizes=(cant_features_new, 50), max_iter=500, random_state=42)\n",
    "\n",
    "        # Entrenamiento con el modelo MLP\n",
    "        mlp.fit(input_less_features, train_yd)\n",
    "\n",
    "        # Nueva matriz de monitoreo con las columnas de interes\n",
    "        monitor_less_features = monitor_input[:, column_indices]\n",
    "        \n",
    "        # Realizar predicciones en los datos de monitoreo\n",
    "        predictions = mlp.predict(monitor_less_features)\n",
    "\n",
    "        # Calcular la precisión en los datos de monitoreo\n",
    "        accuracy = accuracy_score(monitor_yd, predictions)\n",
    "\n",
    "        # Calcular el valor de fitness\n",
    "        fitness = alpha * accuracy - beta * (cant_features_new / cant_features_tot)\n",
    "\n",
    "        #--- Comparación y reemplazo segun el fitness ---#\n",
    "        if fitness > best_fitness:\n",
    "            best_features = column_indices\n",
    "            best_matrix = input_less_features\n",
    "            best_fitness = fitness\n",
    "            best_mlp = mlp\n",
    "\n",
    "print(\"El mayor valor de fitness conseguido fue:\", best_fitness)\n",
    "print(\"Para una matriz que considera los índices:\", best_features)\n"
   ]
  },
  {
   "cell_type": "code",
   "execution_count": 9,
   "metadata": {},
   "outputs": [
    {
     "name": "stdout",
     "output_type": "stream",
     "text": [
      "El mayor valor de accuracy conseguido fue: 0.6176470588235294\n"
     ]
    }
   ],
   "source": [
    "#-----------------------#\n",
    "#--- Sección de test ---#\n",
    "#-----------------------#\n",
    "\n",
    "# Nueva matriz de monitoreo con las columnas de interes\n",
    "test_less_features = test_input[:, best_features]\n",
    "\n",
    "# Realizar predicciones en los datos de monitoreo\n",
    "predictions = best_mlp.predict(test_less_features)\n",
    "\n",
    "# Calcular la precisión en los datos de monitoreo\n",
    "accuracy = accuracy_score(test_yd, predictions)\n",
    "\n",
    "# Calcular el valor de fitness\n",
    "#fitness_test = alpha * accuracy - beta * (cant_features_new / cant_features_tot)\n",
    "\n",
    "print(\"El mayor valor de accuracy conseguido fue:\", accuracy)\n"
   ]
  }
 ],
 "metadata": {
  "kernelspec": {
   "display_name": "Python 3",
   "language": "python",
   "name": "python3"
  },
  "language_info": {
   "codemirror_mode": {
    "name": "ipython",
    "version": 3
   },
   "file_extension": ".py",
   "mimetype": "text/x-python",
   "name": "python",
   "nbconvert_exporter": "python",
   "pygments_lexer": "ipython3",
   "version": "3.11.6"
  }
 },
 "nbformat": 4,
 "nbformat_minor": 2
}
