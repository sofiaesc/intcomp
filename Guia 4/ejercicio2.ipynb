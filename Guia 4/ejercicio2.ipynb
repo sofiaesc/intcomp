{
 "cells": [
  {
   "cell_type": "markdown",
   "metadata": {},
   "source": [
    "**Ejercicio 2:** Implemente el método de clustering k-medias sobre el conjunto de datos Iris (GTP2) y compare las soluciones obtenidas con las de un SOM en estos mismos datos con una matriz de contingencia."
   ]
  },
  {
   "cell_type": "markdown",
   "metadata": {},
   "source": [
    "#### <b>Librerías</b>"
   ]
  },
  {
   "cell_type": "code",
   "execution_count": 1,
   "metadata": {},
   "outputs": [],
   "source": [
    "import random\n",
    "import csv\n",
    "import numpy as np\n",
    "\n",
    "from som_func import som\n",
    "\n",
    "from sklearn.metrics.cluster import contingency_matrix"
   ]
  },
  {
   "cell_type": "markdown",
   "metadata": {},
   "source": [
    "#### **Inicialización**\n",
    "\n",
    "Para este método, el único parámetro que debemos cambiar es *k*, la cantidad de centroides o de grupos que queremos formar. También el nombre del archivo del cual levantaremos los datos de entrada, en este caso, el conjunto de datos *Iris* de la guía 2. Para poder comparar la salida de k-medias y SOM con el **golden standard**, también guardamos en un vector las salidas esperadas que nos proporciona el .csv."
   ]
  },
  {
   "cell_type": "code",
   "execution_count": 2,
   "metadata": {},
   "outputs": [],
   "source": [
    "k = 3           # Cantidad de centroides (y grupos)\n",
    "cant_e = 4      # Cantidad de entradas en el archivo .csv\n",
    "\n",
    "trn = np.loadtxt('./data/irisbin_trn.csv',delimiter=',')\n",
    "\n",
    "inputs = np.empty(len(trn),dtype=object)      # Vector de entradas\n",
    "yd = np.empty(len(trn),dtype=object)          # Salida esperadas\n",
    "\n",
    "for i in range(len(trn)):\n",
    "    fila = trn[i]\n",
    "    yd[i] = fila[cant_e:]\n",
    "    inputs[i] = fila[0:cant_e]"
   ]
  },
  {
   "cell_type": "markdown",
   "metadata": {},
   "source": [
    "Teniendo la cantidad de centroides deseada, inicializamos al azar las coordenadas de los mismos. Existen varias formas de hacer esto:\n",
    "\n",
    "1. Inicializo al azar las coordenadas *x_j* para cada centroide *c_j*.\n",
    "2. Tomo patrones al azar y les asigno sus coordenadas a los centroides.\n",
    "3. Inicializo al azar los grupos correspondientes a cada patrón."
   ]
  },
  {
   "cell_type": "code",
   "execution_count": 3,
   "metadata": {},
   "outputs": [],
   "source": [
    "# Con la inicialización 2:\n",
    "c = np.empty(k,dtype=object)\n",
    "for i in range(k):\n",
    "    c[i] = random.choice(inputs)"
   ]
  },
  {
   "cell_type": "markdown",
   "metadata": {},
   "source": [
    "#### **Adaptación de centroides**\n",
    "\n",
    "Trabajo por épocas como en otros métodos. Primero debo asignarle el centroide más cercano a cada patrón de entradas. Para esto, mido las distancias y guardo el índice del centroide más cercano en un vector del tamaño del vector *inputs* que almacena los patrones como filas.\n",
    "\n",
    "Una vez asignados los centroides a todos los patrones de entrada, puedo recalcular las coordenadas de los centroides para que queden en el medio de los patrones que abarcan.\n",
    "\n",
    "En la siguiente época voy a reasignar los centroides para cada patrón y corto el algoritmo cuando deje de reasignar patrones (convirgió a una solución)."
   ]
  },
  {
   "cell_type": "code",
   "execution_count": 4,
   "metadata": {},
   "outputs": [
    {
     "name": "stdout",
     "output_type": "stream",
     "text": [
      "Finalizó en la época 5 con la siguiente distribución de clases:\n",
      "[46 20 45]\n",
      "Las salidas deseadas tienen la distribución:\n",
      "[34 32 45]\n"
     ]
    }
   ],
   "source": [
    "max_epoca = 50\n",
    "epoca = 1\n",
    "last_input_centroid = np.empty(len(inputs))     # Vector donde guardo la última asignación de centroides a patrones\n",
    "input_centroid = np.empty(len(inputs))          # Vector donde guardo la asignación actual de centroides a patrones\n",
    "\n",
    "while epoca <= max_epoca:\n",
    "    flag = False\n",
    "    \n",
    "    for i in range(len(inputs)):                # Asigno centroides a patrones:\n",
    "        dist = [np.linalg.norm(inputs[i] - c[j]) for j in range(k)]\n",
    "        if (np.argmin(dist) != input_centroid[i]):\n",
    "            input_centroid[i] = np.argmin(dist)\n",
    "            flag = True     # Si reasigné, pongo la bandera en true.\n",
    "\n",
    "    for j in range(k):                          # Recalculo coordenadas de centroides\n",
    "        index_inputs_cj = np.where(input_centroid == j)[0]\n",
    "        if(len(index_inputs_cj) != 0):          # Evito dividir por cero en el promedio\n",
    "            suma = sum(inputs[i] for i in index_inputs_cj)\n",
    "            c[j] = suma/len(index_inputs_cj)\n",
    "\n",
    "    #print(np.histogram(input_centroid,range(k+1)))     # Distribución por época\n",
    "    if (flag == False):  # Si no reasigné nunca, corto.\n",
    "        break\n",
    "\n",
    "    epoca += 1\n",
    "\n",
    "print('Finalizó en la época',epoca,'con la siguiente distribución de clases:')\n",
    "print(np.histogram(input_centroid,range(k+1))[0])\n",
    "print('Las salidas deseadas tienen la distribución:')\n",
    "idx_yd = [np.argmax(v) for v in yd]\n",
    "print(np.histogram(idx_yd,range(k+1))[0])"
   ]
  },
  {
   "cell_type": "markdown",
   "metadata": {},
   "source": [
    "#### **Gráficas y conclusiones:**\n",
    "\n",
    "Analizamos los resultados con una matriz de contingencia. Comparamos K-medias contra Golden Standard, K-medias contra SOM y SOM contra Golden Standard para determinar la eficiencia de los métodos.\n",
    "\n",
    "En los resultados vamos a ver que no siempre aparecen los True Positives en la diagonal principal porque cuando separa en grupos lo hace con índices distintos a los de la codificación del Iris, pero vemos que hay sólo un elemento por fila de la matriz que tiene un número alto (con ciertos errores).\n",
    "\n",
    "Comenzamos calculando el SOM con una función auxiliar del ejercicio anterior."
   ]
  },
  {
   "cell_type": "code",
   "execution_count": 5,
   "metadata": {},
   "outputs": [],
   "source": [
    "filas = 5\n",
    "columnas = 5\n",
    "rv = 2\n",
    "cant_e = 4\n",
    "archivo = './data/irisbin_trn.csv'\n",
    "\n",
    "inputs_som,input_neurona = som(filas,columnas,rv,cant_e,archivo)"
   ]
  },
  {
   "cell_type": "markdown",
   "metadata": {},
   "source": [
    "**K-medias contra Golden Standard**"
   ]
  },
  {
   "cell_type": "code",
   "execution_count": 6,
   "metadata": {},
   "outputs": [
    {
     "name": "stdout",
     "output_type": "stream",
     "text": [
      "Matriz de contingencia:\n",
      " [[14 20  0]\n",
      " [32  0  0]\n",
      " [ 0  0 45]]\n"
     ]
    }
   ],
   "source": [
    "matrix = contingency_matrix(idx_yd,input_centroid)\n",
    "print('Matriz de contingencia:\\n',matrix)"
   ]
  },
  {
   "cell_type": "markdown",
   "metadata": {},
   "source": [
    "**K-medias contra SOM**"
   ]
  },
  {
   "cell_type": "code",
   "execution_count": 7,
   "metadata": {},
   "outputs": [
    {
     "name": "stdout",
     "output_type": "stream",
     "text": [
      "Matriz de contigencia:\n",
      " [[ 1  0  0 37  8]\n",
      " [ 0  0 20  0  0]\n",
      " [ 0 45  0  0  0]]\n"
     ]
    }
   ],
   "source": [
    "matrix = contingency_matrix(input_centroid,input_neurona)\n",
    "print('Matriz de contigencia:\\n',matrix)"
   ]
  },
  {
   "cell_type": "markdown",
   "metadata": {},
   "source": [
    "**SOM contra Golden Standard**"
   ]
  },
  {
   "cell_type": "code",
   "execution_count": 8,
   "metadata": {},
   "outputs": [
    {
     "name": "stdout",
     "output_type": "stream",
     "text": [
      "Matriz de contigencia:\n",
      " [[ 0  0 20 14  0]\n",
      " [ 1  0  0 23  8]\n",
      " [ 0 45  0  0  0]]\n"
     ]
    }
   ],
   "source": [
    "matrix = contingency_matrix(idx_yd,input_neurona)\n",
    "print('Matriz de contigencia:\\n',matrix)"
   ]
  }
 ],
 "metadata": {
  "kernelspec": {
   "display_name": "Python 3",
   "language": "python",
   "name": "python3"
  },
  "language_info": {
   "codemirror_mode": {
    "name": "ipython",
    "version": 3
   },
   "file_extension": ".py",
   "mimetype": "text/x-python",
   "name": "python",
   "nbconvert_exporter": "python",
   "pygments_lexer": "ipython3",
   "version": "3.11.5"
  },
  "orig_nbformat": 4
 },
 "nbformat": 4,
 "nbformat_minor": 2
}
