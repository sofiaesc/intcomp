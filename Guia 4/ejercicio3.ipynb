{
 "cells": [
  {
   "cell_type": "markdown",
   "metadata": {},
   "source": [
    "**Ejercicio 3:** Pruebe varios valores de k(por ejemplo entre 2 y 10) para el conjunto de datos Iris, calcule para cada k una métrica de clustering (con sklearn) y encuentre el k óptimo para k-medias."
   ]
  },
  {
   "cell_type": "markdown",
   "metadata": {},
   "source": [
    "#### <b>Librerías</b>"
   ]
  },
  {
   "cell_type": "code",
   "execution_count": 1,
   "metadata": {},
   "outputs": [],
   "source": [
    "import random\n",
    "import csv\n",
    "import numpy as np\n",
    "from tabulate import tabulate\n",
    "\n",
    "from kmedias_func import kmedias\n",
    "\n",
    "from sklearn.metrics.cluster import contingency_matrix\n",
    "from sklearn.metrics.cluster import rand_score\n",
    "from sklearn.metrics.cluster import fowlkes_mallows_score\n",
    "from sklearn.metrics.cluster import davies_bouldin_score"
   ]
  },
  {
   "cell_type": "markdown",
   "metadata": {},
   "source": [
    "#### **Golden Standard**"
   ]
  },
  {
   "cell_type": "code",
   "execution_count": 2,
   "metadata": {},
   "outputs": [],
   "source": [
    "archivo = './data/irisbin_trn.csv'\n",
    "trn = np.loadtxt(archivo,delimiter=',')\n",
    "cant_e = 4\n",
    "yd = np.empty(len(trn),dtype=object)         # Salidas esperadas\n",
    "\n",
    "for i in range(len(trn)):\n",
    "    fila = trn[i]\n",
    "    yd[i] = fila[cant_e:]\n",
    "\n",
    "idx_yd = [np.argmax(v) for v in yd]         # Codifico las salidas para comparar"
   ]
  },
  {
   "cell_type": "markdown",
   "metadata": {},
   "source": [
    "#### **Métricas de clustering para k-medias con distintos k**"
   ]
  },
  {
   "cell_type": "code",
   "execution_count": 3,
   "metadata": {},
   "outputs": [],
   "source": [
    "matrix = []\n",
    "ri = []\n",
    "fms = []\n",
    "db = []\n",
    "max_epoca = 50\n",
    "\n",
    "for k in range(2,11):\n",
    "    inputs,c,input_centroid = kmedias(k,cant_e,archivo,max_epoca)\n",
    "\n",
    "    matrix.append(contingency_matrix(idx_yd,input_centroid))\n",
    "    ri.append(rand_score(idx_yd,input_centroid))\n",
    "    fms.append(fowlkes_mallows_score(idx_yd,input_centroid))\n",
    "    db.append(davies_bouldin_score(np.vstack(inputs),input_centroid))\n"
   ]
  },
  {
   "cell_type": "markdown",
   "metadata": {},
   "source": [
    "Reuno los datos en una tabla. Recordemos:\n",
    "- **Matriz de contingencia:** Me muestra coincidencias entre los índices.\n",
    "- **Rand Index:** Mientras más cerca de 1, mejor clustering.\n",
    "- **Fowlkes & Mallows:** Mientras más cerca de 1, mejor clustering.\n",
    "- **Medida Combinada:** Mínimo cero, menor valor implica mejor clustering."
   ]
  },
  {
   "cell_type": "code",
   "execution_count": 4,
   "metadata": {},
   "outputs": [
    {
     "name": "stdout",
     "output_type": "stream",
     "text": [
      "┌─────┬───────────────────────────────────┬──────────────┬─────────────────────┬────────────────────┐\n",
      "│  k  │      Matriz de Contingencia       │  Rand Index  │  Fowlkes & Mallows  │  Medida Combinada  │\n",
      "├─────┼───────────────────────────────────┼──────────────┼─────────────────────┼────────────────────┤\n",
      "│  2  │             [[34  0]              │   0.821785   │      0.808054       │      0.375535      │\n",
      "│     │              [32  0]              │              │                     │                    │\n",
      "│     │              [ 0 45]]             │              │                     │                    │\n",
      "├─────┼───────────────────────────────────┼──────────────┼─────────────────────┼────────────────────┤\n",
      "│  3  │            [[26  8  0]            │   0.893857   │       0.84203       │      0.735411      │\n",
      "│     │             [ 4 28  0]            │              │                     │                    │\n",
      "│     │            [ 0  0 45]]            │              │                     │                    │\n",
      "├─────┼───────────────────────────────────┼──────────────┼─────────────────────┼────────────────────┤\n",
      "│  4  │          [[15  0 19  0]           │   0.874693   │      0.800351       │      0.867246      │\n",
      "│     │           [15 17  0  0]           │              │                     │                    │\n",
      "│     │           [ 0  0  0 45]]          │              │                     │                    │\n",
      "├─────┼───────────────────────────────────┼──────────────┼─────────────────────┼────────────────────┤\n",
      "│  5  │         [[ 0  0 14  0 20]         │   0.907781   │      0.851485       │      0.777021      │\n",
      "│     │          [14  0  1 17  0]         │              │                     │                    │\n",
      "│     │         [ 0 45  0  0  0]]         │              │                     │                    │\n",
      "├─────┼───────────────────────────────────┼──────────────┼─────────────────────┼────────────────────┤\n",
      "│  6  │       [[ 0  0  9 25  0  0]        │   0.818018   │      0.687576       │      0.74003       │\n",
      "│     │        [ 0  0 23  0  1  8]        │              │                     │                    │\n",
      "│     │        [16 29  0  0  0  0]]       │              │                     │                    │\n",
      "├─────┼───────────────────────────────────┼──────────────┼─────────────────────┼────────────────────┤\n",
      "│  7  │      [[ 0 15  0  0 19  0  0]      │   0.762326   │      0.561072       │      0.826942      │\n",
      "│     │       [17 15  0  0  0  0  0]      │              │                     │                    │\n",
      "│     │      [ 0  0 20 12  0  3 10]]      │              │                     │                    │\n",
      "├─────┼───────────────────────────────────┼──────────────┼─────────────────────┼────────────────────┤\n",
      "│  8  │    [[ 0  0  0 11 20  0  0  3]     │   0.81769    │      0.675924       │      0.726953      │\n",
      "│     │     [14  1  0  1  0  0  8  8]     │              │                     │                    │\n",
      "│     │     [ 0  0 13  0  0 32  0  0]]    │              │                     │                    │\n",
      "├─────┼───────────────────────────────────┼──────────────┼─────────────────────┼────────────────────┤\n",
      "│  9  │   [[ 0  6  0  0  0  8  0  0 20]   │   0.809009   │      0.656053       │      0.635499      │\n",
      "│     │    [ 9  1 13  0  0  0  0  9  0]   │              │                     │                    │\n",
      "│     │   [ 0  0  0 12 30  0  3  0  0]]   │              │                     │                    │\n",
      "├─────┼───────────────────────────────────┼──────────────┼─────────────────────┼────────────────────┤\n",
      "│ 10  │ [[ 0  5  0  0  1  0 19  8  0  1]  │   0.811138   │      0.660919       │      0.707217      │\n",
      "│     │  [ 2  0  0 17  0  8  0  1  0  4]  │              │                     │                    │\n",
      "│     │  [ 0  0 29  0  0  0  0  0 16  0]] │              │                     │                    │\n",
      "└─────┴───────────────────────────────────┴──────────────┴─────────────────────┴────────────────────┘\n"
     ]
    },
    {
     "name": "stderr",
     "output_type": "stream",
     "text": [
      "C:\\Users\\ssfes\\AppData\\Local\\Packages\\PythonSoftwareFoundation.Python.3.11_qbz5n2kfra8p0\\LocalCache\\local-packages\\Python311\\site-packages\\tabulate\\__init__.py:108: FutureWarning: elementwise comparison failed; returning scalar instead, but in the future will perform elementwise comparison\n",
      "  or (len(row) >= 2 and row[1] == SEPARATING_LINE)\n"
     ]
    }
   ],
   "source": [
    "table_data = [[x,y,z,k,l] for x, y, z, k, l in zip(range(2,11), matrix, ri, fms, db)]\n",
    "headers = ['k','Matriz de Contingencia','Rand Index','Fowlkes & Mallows','Medida Combinada']\n",
    "table = tabulate(table_data, headers, tablefmt='simple_grid',stralign='center',numalign='center')\n",
    "print(table)"
   ]
  }
 ],
 "metadata": {
  "kernelspec": {
   "display_name": "Python 3",
   "language": "python",
   "name": "python3"
  },
  "language_info": {
   "codemirror_mode": {
    "name": "ipython",
    "version": 3
   },
   "file_extension": ".py",
   "mimetype": "text/x-python",
   "name": "python",
   "nbconvert_exporter": "python",
   "pygments_lexer": "ipython3",
   "version": "3.11.5"
  },
  "orig_nbformat": 4
 },
 "nbformat": 4,
 "nbformat_minor": 2
}
