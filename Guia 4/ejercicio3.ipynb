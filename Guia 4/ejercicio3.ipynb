{
 "cells": [
  {
   "cell_type": "markdown",
   "metadata": {},
   "source": [
    "**Ejercicio 3:** Pruebe varios valores de k(por ejemplo entre 2 y 10) para el conjunto de datos Iris, calcule para cada k una métrica de clustering (con sklearn) y encuentre el k óptimo para k-medias."
   ]
  },
  {
   "cell_type": "markdown",
   "metadata": {},
   "source": [
    "#### <b>Librerías</b>"
   ]
  },
  {
   "cell_type": "code",
   "execution_count": 1,
   "metadata": {},
   "outputs": [],
   "source": [
    "import random\n",
    "import csv\n",
    "import numpy as np\n",
    "from tabulate import tabulate\n",
    "\n",
    "from kmedias_func import kmedias\n",
    "\n",
    "from sklearn.metrics.cluster import contingency_matrix\n",
    "from sklearn.metrics.cluster import rand_score\n",
    "from sklearn.metrics.cluster import fowlkes_mallows_score\n",
    "from sklearn.metrics.cluster import davies_bouldin_score"
   ]
  },
  {
   "cell_type": "markdown",
   "metadata": {},
   "source": [
    "#### **Golden Standard**"
   ]
  },
  {
   "cell_type": "code",
   "execution_count": 2,
   "metadata": {},
   "outputs": [],
   "source": [
    "archivo = './data/irisbin_trn.csv'\n",
    "trn = np.loadtxt(archivo,delimiter=',')\n",
    "cant_e = 4\n",
    "yd = np.empty(len(trn),dtype=object)         # Salidas esperadas\n",
    "\n",
    "for i in range(len(trn)):\n",
    "    fila = trn[i]\n",
    "    yd[i] = fila[cant_e:]\n",
    "\n",
    "idx_yd = [np.argmax(v) for v in yd]         # Codifico las salidas para comparar"
   ]
  },
  {
   "cell_type": "markdown",
   "metadata": {},
   "source": [
    "#### **Métricas de clustering para k-medias con distintos k**"
   ]
  },
  {
   "cell_type": "code",
   "execution_count": 3,
   "metadata": {},
   "outputs": [],
   "source": [
    "matrix = []\n",
    "ri = []\n",
    "fms = []\n",
    "db = []\n",
    "\n",
    "for k in range(2,11):\n",
    "    inputs,input_centroid = kmedias(k,cant_e,archivo)\n",
    "\n",
    "    matrix.append(contingency_matrix(idx_yd,input_centroid))\n",
    "    ri.append(rand_score(idx_yd,input_centroid))\n",
    "    fms.append(fowlkes_mallows_score(idx_yd,input_centroid))\n",
    "    db.append(davies_bouldin_score(np.vstack(inputs),input_centroid))\n"
   ]
  },
  {
   "cell_type": "markdown",
   "metadata": {},
   "source": [
    "Reuno los datos en una tabla. Recordemos:\n",
    "- **Matriz de contingencia:** Me muestra coincidencias entre los índices.\n",
    "- **Rand Index:** Mientras más cerca de 1, mejor clustering.\n",
    "- **Fowlkes & Mallows:** Mientras más cerca de 1, mejor clustering.\n",
    "- **Medida Combinada:** Mínimo cero, menor valor implica mejor clustering."
   ]
  },
  {
   "cell_type": "code",
   "execution_count": 4,
   "metadata": {},
   "outputs": [
    {
     "name": "stdout",
     "output_type": "stream",
     "text": [
      "┌─────┬───────────────────────────────────┬──────────────┬─────────────────────┬────────────────────┐\n",
      "│  k  │      Matriz de Contingencia       │  Rand Index  │  Fowlkes & Mallows  │  Medida Combinada  │\n",
      "├─────┼───────────────────────────────────┼──────────────┼─────────────────────┼────────────────────┤\n",
      "│  2  │             [[ 0 34]              │   0.821785   │      0.808054       │      0.375535      │\n",
      "│     │              [ 0 32]              │              │                     │                    │\n",
      "│     │              [45  0]]             │              │                     │                    │\n",
      "├─────┼───────────────────────────────────┼──────────────┼─────────────────────┼────────────────────┤\n",
      "│  3  │            [[ 8  0 26]            │   0.893857   │       0.84203       │      0.735411      │\n",
      "│     │             [28  0  4]            │              │                     │                    │\n",
      "│     │            [ 0 45  0]]            │              │                     │                    │\n",
      "├─────┼───────────────────────────────────┼──────────────┼─────────────────────┼────────────────────┤\n",
      "│  4  │          [[ 0  0 34  0]           │    0.7181    │      0.620181       │      0.847072      │\n",
      "│     │           [ 0  0 31  1]           │              │                     │                    │\n",
      "│     │           [12 23  0 10]]          │              │                     │                    │\n",
      "├─────┼───────────────────────────────────┼──────────────┼─────────────────────┼────────────────────┤\n",
      "│  5  │         [[15 16  0  0  3]         │   0.892056   │      0.824089       │      0.844304      │\n",
      "│     │          [ 1  0  0 17 14]         │              │                     │                    │\n",
      "│     │         [ 0  0 45  0  0]]         │              │                     │                    │\n",
      "├─────┼───────────────────────────────────┼──────────────┼─────────────────────┼────────────────────┤\n",
      "│  6  │       [[14  0 20  0  0  0]        │   0.866175   │      0.775263       │      0.875268      │\n",
      "│     │        [ 0  0  1  0 31  0]        │              │                     │                    │\n",
      "│     │        [ 0 30  0 12  0  3]]       │              │                     │                    │\n",
      "├─────┼───────────────────────────────────┼──────────────┼─────────────────────┼────────────────────┤\n",
      "│  7  │      [[ 0  0  0  0 20 14  0]      │   0.891892   │      0.823192       │      0.695189      │\n",
      "│     │       [ 5  4 13  0  0  1  9]      │              │                     │                    │\n",
      "│     │      [ 0  0  0 45  0  0  0]]      │              │                     │                    │\n",
      "├─────┼───────────────────────────────────┼──────────────┼─────────────────────┼────────────────────┤\n",
      "│  8  │    [[20  0  0  0  0  0 14  0]     │   0.789681   │      0.610724       │      0.822255      │\n",
      "│     │     [ 1  9  0  0  0 13  0  9]     │              │                     │                    │\n",
      "│     │     [ 0  0 22 12 11  0  0  0]]    │              │                     │                    │\n",
      "├─────┼───────────────────────────────────┼──────────────┼─────────────────────┼────────────────────┤\n",
      "│  9  │   [[ 0  6  0  8 17  0  3  0  0]   │   0.876986   │      0.795698       │      0.61378       │\n",
      "│     │    [ 0  1 13  0  0  5  0  9  4]   │              │                     │                    │\n",
      "│     │   [45  0  0  0  0  0  0  0  0]]   │              │                     │                    │\n",
      "├─────┼───────────────────────────────────┼──────────────┼─────────────────────┼────────────────────┤\n",
      "│ 10  │ [[ 0  0  0  0  0  9  0  0  0 25]  │   0.765438   │      0.551874       │      0.659783      │\n",
      "│     │  [ 0  0  0  0  0  9  9  0 14  0]  │              │                     │                    │\n",
      "│     │  [15  5 10  3  8  0  0  4  0  0]] │              │                     │                    │\n",
      "└─────┴───────────────────────────────────┴──────────────┴─────────────────────┴────────────────────┘\n"
     ]
    },
    {
     "name": "stderr",
     "output_type": "stream",
     "text": [
      "C:\\Users\\ssfes\\AppData\\Local\\Packages\\PythonSoftwareFoundation.Python.3.11_qbz5n2kfra8p0\\LocalCache\\local-packages\\Python311\\site-packages\\tabulate\\__init__.py:108: FutureWarning: elementwise comparison failed; returning scalar instead, but in the future will perform elementwise comparison\n",
      "  or (len(row) >= 2 and row[1] == SEPARATING_LINE)\n"
     ]
    }
   ],
   "source": [
    "table_data = [[x,y,z,k,l] for x, y, z, k, l in zip(range(2,11), matrix, ri, fms, db)]\n",
    "headers = ['k','Matriz de Contingencia','Rand Index','Fowlkes & Mallows','Medida Combinada']\n",
    "table = tabulate(table_data, headers, tablefmt='simple_grid',stralign='center',numalign='center')\n",
    "print(table)"
   ]
  }
 ],
 "metadata": {
  "kernelspec": {
   "display_name": "Python 3",
   "language": "python",
   "name": "python3"
  },
  "language_info": {
   "codemirror_mode": {
    "name": "ipython",
    "version": 3
   },
   "file_extension": ".py",
   "mimetype": "text/x-python",
   "name": "python",
   "nbconvert_exporter": "python",
   "pygments_lexer": "ipython3",
   "version": "3.11.5"
  },
  "orig_nbformat": 4
 },
 "nbformat": 4,
 "nbformat_minor": 2
}
