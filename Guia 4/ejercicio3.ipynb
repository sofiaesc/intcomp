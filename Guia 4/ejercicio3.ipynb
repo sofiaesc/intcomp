{
 "cells": [
  {
   "cell_type": "markdown",
   "metadata": {},
   "source": [
    "**Ejercicio 3:** Pruebe varios valores de k(por ejemplo entre 2 y 10) para el conjunto de datos Iris, calcule para cada k una métrica de clustering (con sklearn) y encuentre el k óptimo para k-medias."
   ]
  },
  {
   "cell_type": "markdown",
   "metadata": {},
   "source": [
    "#### <b>Librerías</b>"
   ]
  },
  {
   "cell_type": "code",
   "execution_count": 36,
   "metadata": {},
   "outputs": [],
   "source": [
    "import random\n",
    "import csv\n",
    "import numpy as np\n",
    "import matplotlib.pyplot as plt\n",
    "from tabulate import tabulate\n",
    "\n",
    "from kmedias_func import kmedias\n",
    "\n",
    "from cohesion_media import cohesion_media\n",
    "from sklearn.metrics.cluster import contingency_matrix\n",
    "from sklearn.metrics.cluster import rand_score\n",
    "from sklearn.metrics.cluster import fowlkes_mallows_score\n",
    "from sklearn.metrics.cluster import davies_bouldin_score"
   ]
  },
  {
   "cell_type": "markdown",
   "metadata": {},
   "source": [
    "#### **Golden Standard**"
   ]
  },
  {
   "cell_type": "code",
   "execution_count": 37,
   "metadata": {},
   "outputs": [
    {
     "name": "stdout",
     "output_type": "stream",
     "text": [
      "Primer patron de entrada: [5.2 3.4 1.4 0.2]\n",
      "Primera salida esperada: [-1. -1.  1.]\n",
      "Primera salida codificada: 2\n"
     ]
    }
   ],
   "source": [
    "archivo = './data/irisbin_trn.csv'\n",
    "trn = np.loadtxt(archivo,delimiter=',')\n",
    "cant_e = 4\n",
    "yd = np.empty(len(trn),dtype=object)         # Salidas esperadas\n",
    "inputs = np.empty(len(trn),dtype=object)     # Patrones de entrada\n",
    "\n",
    "for i in range(len(trn)):\n",
    "    fila = trn[i]\n",
    "    yd[i] = fila[cant_e:]\n",
    "    inputs[i] = fila[:cant_e]\n",
    "\n",
    "idx_yd = [np.argmax(v) for v in yd]         # Codifico las salidas para comparar\n",
    "\n",
    "print('Primer patron de entrada:',inputs[0])\n",
    "print('Primera salida esperada:',yd[0])\n",
    "print('Primera salida codificada:',idx_yd[0])"
   ]
  },
  {
   "cell_type": "markdown",
   "metadata": {},
   "source": [
    "#### **Métricas de clustering para k-medias con distintos k**"
   ]
  },
  {
   "cell_type": "code",
   "execution_count": 38,
   "metadata": {},
   "outputs": [],
   "source": [
    "matrix = []\n",
    "ri = []\n",
    "fms = []\n",
    "db = []\n",
    "cm = []\n",
    "max_epoca = 50\n",
    "\n",
    "for k in range(2,11):\n",
    "    inputs,c,input_centroid = kmedias(k,inputs,max_epoca)\n",
    "    \n",
    "    matrix.append(contingency_matrix(idx_yd,input_centroid))\n",
    "    ri.append(rand_score(idx_yd,input_centroid))\n",
    "    fms.append(fowlkes_mallows_score(idx_yd,input_centroid))\n",
    "    db.append(davies_bouldin_score(np.vstack(inputs),input_centroid))\n",
    "    cm.append(cohesion_media(np.vstack(inputs),c,input_centroid))\n"
   ]
  },
  {
   "cell_type": "markdown",
   "metadata": {},
   "source": [
    "Reuno los datos en una tabla. Recordemos:\n",
    "- **Matriz de contingencia:** Me muestra coincidencias entre los índices.\n",
    "- **Rand Index:** Mientras más cerca de 1, mejor clustering.\n",
    "- **Fowlkes & Mallows:** Mientras más cerca de 1, mejor clustering.\n",
    "- **Medida Combinada:** Mínimo cero, menor valor implica mejor clustering."
   ]
  },
  {
   "cell_type": "code",
   "execution_count": 39,
   "metadata": {},
   "outputs": [
    {
     "name": "stdout",
     "output_type": "stream",
     "text": [
      "┌─────┬───────────────────────────────────┬──────────────┬─────────────────────┬────────────────────┬──────────────────┐\n",
      "│  k  │      Matriz de Contingencia       │  Rand Index  │  Fowlkes & Mallows  │  Medida Combinada  │  Cohesión media  │\n",
      "├─────┼───────────────────────────────────┼──────────────┼─────────────────────┼────────────────────┼──────────────────┤\n",
      "│  2  │             [[ 0 34]              │   0.821785   │      0.808054       │      0.375535      │     0.74734      │\n",
      "│     │              [ 0 32]              │              │                     │                    │                  │\n",
      "│     │              [45  0]]             │              │                     │                    │                  │\n",
      "├─────┼───────────────────────────────────┼──────────────┼─────────────────────┼────────────────────┼──────────────────┤\n",
      "│  3  │            [[ 0 34  0]            │   0.745782   │      0.676994       │      0.633895      │     0.574213     │\n",
      "│     │             [ 0 32  0]            │              │                     │                    │                  │\n",
      "│     │            [16  0 29]]            │              │                     │                    │                  │\n",
      "├─────┼───────────────────────────────────┼──────────────┼─────────────────────┼────────────────────┼──────────────────┤\n",
      "│  4  │          [[ 0 26  0  8]           │   0.817854   │      0.699857       │      0.855096      │     0.538356     │\n",
      "│     │           [ 0  4  0 28]           │              │                     │                    │                  │\n",
      "│     │           [16  0 29  0]]          │              │                     │                    │                  │\n",
      "├─────┼───────────────────────────────────┼──────────────┼─────────────────────┼────────────────────┼──────────────────┤\n",
      "│  5  │         [[ 0  0  0 20 14]         │   0.907781   │      0.851485       │      0.777021      │     0.494869     │\n",
      "│     │          [17 14  0  0  1]         │              │                     │                    │                  │\n",
      "│     │         [ 0  0 45  0  0]]         │              │                     │                    │                  │\n",
      "├─────┼───────────────────────────────────┼──────────────┼─────────────────────┼────────────────────┼──────────────────┤\n",
      "│  6  │       [[26  6  0  0  2  0]        │   0.796069   │       0.63228       │      0.951501      │     0.449157     │\n",
      "│     │        [ 0 17  0  0 15  0]        │              │                     │                    │                  │\n",
      "│     │        [ 0  0 12 11  0 22]]       │              │                     │                    │                  │\n",
      "├─────┼───────────────────────────────────┼──────────────┼─────────────────────┼────────────────────┼──────────────────┤\n",
      "│  7  │      [[14  0  0  0 20  0  0]      │   0.893857   │      0.826744       │      0.611563      │     0.321347     │\n",
      "│     │       [ 1  9  1  0  0  8 13]      │              │                     │                    │                  │\n",
      "│     │      [ 0  0  0 45  0  0  0]]      │              │                     │                    │                  │\n",
      "├─────┼───────────────────────────────────┼──────────────┼─────────────────────┼────────────────────┼──────────────────┤\n",
      "│  8  │    [[ 0  6  8 20  0  0  0  0]     │   0.869779   │      0.783164       │      0.634297      │     0.290917     │\n",
      "│     │     [ 6  1  8  0  8  8  1  0]     │              │                     │                    │                  │\n",
      "│     │     [ 0  0  0  0  0  0  0 45]]    │              │                     │                    │                  │\n",
      "├─────┼───────────────────────────────────┼──────────────┼─────────────────────┼────────────────────┼──────────────────┤\n",
      "│  9  │   [[ 0  0  0  0  2 20  6  0  6]   │   0.795905   │      0.628138       │      0.688669      │     0.281231     │\n",
      "│     │    [ 1  0  8  1 13  0  8  0  1]   │              │                     │                    │                  │\n",
      "│     │   [ 0 29  0  0  0  0  0 16  0]]   │              │                     │                    │                  │\n",
      "├─────┼───────────────────────────────────┼──────────────┼─────────────────────┼────────────────────┼──────────────────┤\n",
      "│ 10  │ [[ 0  0  0 20  0  0  0  0  0 14]  │   0.774939   │      0.573507       │      0.773282      │     0.276767     │\n",
      "│     │  [14  9  0  0  0  8  0  0  0  1]  │              │                     │                    │                  │\n",
      "│     │  [ 0  0  8  0  4  0 17  3 13  0]] │              │                     │                    │                  │\n",
      "└─────┴───────────────────────────────────┴──────────────┴─────────────────────┴────────────────────┴──────────────────┘\n"
     ]
    },
    {
     "name": "stderr",
     "output_type": "stream",
     "text": [
      "C:\\Users\\ssfes\\AppData\\Local\\Packages\\PythonSoftwareFoundation.Python.3.11_qbz5n2kfra8p0\\LocalCache\\local-packages\\Python311\\site-packages\\tabulate\\__init__.py:108: FutureWarning: elementwise comparison failed; returning scalar instead, but in the future will perform elementwise comparison\n",
      "  or (len(row) >= 2 and row[1] == SEPARATING_LINE)\n"
     ]
    }
   ],
   "source": [
    "table_data = [[x,y,z,k,l,m] for x, y, z, k, l, m in zip(range(2,11), matrix, ri, fms, db, cm)]\n",
    "headers = ['k','Matriz de Contingencia','Rand Index','Fowlkes & Mallows','Medida Combinada','Cohesión media']\n",
    "table = tabulate(table_data, headers, tablefmt='simple_grid',stralign='center',numalign='center')\n",
    "print(table)"
   ]
  },
  {
   "cell_type": "markdown",
   "metadata": {},
   "source": [
    "#### **Elbow method**\n",
    "\n",
    "Podemos ver la tabla para comparar las distintas métricas o, podemos usar el método del codo para encontrar el k óptimo. Para eso, graficamos la cohesión media para cada resultado obtenido con distintos valores de k y buscamos en la gráfica el 'codo' de la misma."
   ]
  },
  {
   "cell_type": "code",
   "execution_count": 40,
   "metadata": {},
   "outputs": [
    {
     "data": {
      "image/png": "[encoded data removed]",
      "text/plain": [
       "<Figure size 640x480 with 1 Axes>"
      ]
     },
     "metadata": {},
     "output_type": "display_data"
    }
   ],
   "source": [
    "x = range(2,11)\n",
    "plt.plot(x, cm)\n",
    "\n",
    "plt.title('Elbow Method')\n",
    "plt.xlabel('Valor de k')\n",
    "plt.ylabel('Cohesión media')\n",
    "\n",
    "plt.show()"
   ]
  }
 ],
 "metadata": {
  "kernelspec": {
   "display_name": "Python 3",
   "language": "python",
   "name": "python3"
  },
  "language_info": {
   "codemirror_mode": {
    "name": "ipython",
    "version": 3
   },
   "file_extension": ".py",
   "mimetype": "text/x-python",
   "name": "python",
   "nbconvert_exporter": "python",
   "pygments_lexer": "ipython3",
   "version": "3.11.5"
  },
  "orig_nbformat": 4
 },
 "nbformat": 4,
 "nbformat_minor": 2
}
