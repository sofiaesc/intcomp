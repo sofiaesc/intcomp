{
 "cells": [
  {
   "cell_type": "markdown",
   "metadata": {},
   "source": [
    "**Ejercicio 3:** Pruebe varios valores de k(por ejemplo entre 2 y 10) para el conjunto de datos Iris, calcule para cada k una métrica de clustering (con sklearn) y encuentre el k óptimo para k-medias."
   ]
  },
  {
   "cell_type": "markdown",
   "metadata": {},
   "source": [
    "#### <b>Librerías</b>"
   ]
  },
  {
   "cell_type": "code",
   "execution_count": 1,
   "metadata": {},
   "outputs": [],
   "source": [
    "import random\n",
    "import csv\n",
    "import numpy as np\n",
    "from tabulate import tabulate\n",
    "\n",
    "from kmedias_func import kmedias\n",
    "\n",
    "from sklearn.metrics.cluster import contingency_matrix\n",
    "from sklearn.metrics.cluster import rand_score\n",
    "from sklearn.metrics.cluster import fowlkes_mallows_score\n",
    "from sklearn.metrics.cluster import davies_bouldin_score"
   ]
  },
  {
   "cell_type": "markdown",
   "metadata": {},
   "source": [
    "#### **Golden Standard**"
   ]
  },
  {
   "cell_type": "code",
   "execution_count": 2,
   "metadata": {},
   "outputs": [
    {
     "name": "stdout",
     "output_type": "stream",
     "text": [
      "Primer patron de entrada: [5.2 3.4 1.4 0.2]\n",
      "Primera salida esperada: [-1. -1.  1.]\n",
      "Primera salida codificada: 2\n"
     ]
    }
   ],
   "source": [
    "archivo = './data/irisbin_trn.csv'\n",
    "trn = np.loadtxt(archivo,delimiter=',')\n",
    "cant_e = 4\n",
    "yd = np.empty(len(trn),dtype=object)         # Salidas esperadas\n",
    "inputs = np.empty(len(trn),dtype=object)     # Patrones de entrada\n",
    "\n",
    "for i in range(len(trn)):\n",
    "    fila = trn[i]\n",
    "    yd[i] = fila[cant_e:]\n",
    "    inputs[i] = fila[:cant_e]\n",
    "\n",
    "idx_yd = [np.argmax(v) for v in yd]         # Codifico las salidas para comparar\n",
    "\n",
    "print('Primer patron de entrada:',inputs[0])\n",
    "print('Primera salida esperada:',yd[0])\n",
    "print('Primera salida codificada:',idx_yd[0])"
   ]
  },
  {
   "cell_type": "markdown",
   "metadata": {},
   "source": [
    "#### **Métricas de clustering para k-medias con distintos k**"
   ]
  },
  {
   "cell_type": "code",
   "execution_count": 3,
   "metadata": {},
   "outputs": [],
   "source": [
    "matrix = []\n",
    "ri = []\n",
    "fms = []\n",
    "db = []\n",
    "max_epoca = 50\n",
    "\n",
    "for k in range(2,11):\n",
    "    inputs,c,input_centroid = kmedias(k,inputs,max_epoca)\n",
    "\n",
    "    matrix.append(contingency_matrix(idx_yd,input_centroid))\n",
    "    ri.append(rand_score(idx_yd,input_centroid))\n",
    "    fms.append(fowlkes_mallows_score(idx_yd,input_centroid))\n",
    "    db.append(davies_bouldin_score(np.vstack(inputs),input_centroid))\n"
   ]
  },
  {
   "cell_type": "markdown",
   "metadata": {},
   "source": [
    "Reuno los datos en una tabla. Recordemos:\n",
    "- **Matriz de contingencia:** Me muestra coincidencias entre los índices.\n",
    "- **Rand Index:** Mientras más cerca de 1, mejor clustering.\n",
    "- **Fowlkes & Mallows:** Mientras más cerca de 1, mejor clustering.\n",
    "- **Medida Combinada:** Mínimo cero, menor valor implica mejor clustering."
   ]
  },
  {
   "cell_type": "code",
   "execution_count": 4,
   "metadata": {},
   "outputs": [
    {
     "name": "stdout",
     "output_type": "stream",
     "text": [
      "┌─────┬───────────────────────────────────┬──────────────┬─────────────────────┬────────────────────┐\n",
      "│  k  │      Matriz de Contingencia       │  Rand Index  │  Fowlkes & Mallows  │  Medida Combinada  │\n",
      "├─────┼───────────────────────────────────┼──────────────┼─────────────────────┼────────────────────┤\n",
      "│  2  │             [[34  0]              │   0.821785   │      0.808054       │      0.375535      │\n",
      "│     │              [32  0]              │              │                     │                    │\n",
      "│     │              [ 0 45]]             │              │                     │                    │\n",
      "├─────┼───────────────────────────────────┼──────────────┼─────────────────────┼────────────────────┤\n",
      "│  3  │            [[34  0  0]            │   0.753645   │      0.691338       │      0.669102      │\n",
      "│     │             [32  0  0]            │              │                     │                    │\n",
      "│     │            [ 0 13 32]]            │              │                     │                    │\n",
      "├─────┼───────────────────────────────────┼──────────────┼─────────────────────┼────────────────────┤\n",
      "│  4  │          [[15  0  0 19]           │   0.888452   │      0.821681       │      0.918169      │\n",
      "│     │           [11  0 21  0]           │              │                     │                    │\n",
      "│     │           [ 0 45  0  0]]          │              │                     │                    │\n",
      "├─────┼───────────────────────────────────┼──────────────┼─────────────────────┼────────────────────┤\n",
      "│  5  │         [[ 0  0 25  9  0]         │   0.779689   │      0.621282       │      0.864842      │\n",
      "│     │          [ 0  0  4 28  0]         │              │                     │                    │\n",
      "│     │         [12 20  0  0 13]]         │              │                     │                    │\n",
      "├─────┼───────────────────────────────────┼──────────────┼─────────────────────┼────────────────────┤\n",
      "│  6  │       [[ 6  0 15  0  0 13]        │   0.787387   │      0.647591       │      0.929713      │\n",
      "│     │        [ 0  0  0  0  0 32]        │              │                     │                    │\n",
      "│     │        [ 0 11  0 29  5  0]]       │              │                     │                    │\n",
      "├─────┼───────────────────────────────────┼──────────────┼─────────────────────┼────────────────────┤\n",
      "│  7  │      [[ 0  0 20  0 14  0  0]      │   0.823096   │      0.687383       │       1.0536       │\n",
      "│     │       [ 0  0  0  0  1 31  0]      │              │                     │                    │\n",
      "│     │      [13  9  0 11  0  0 12]]      │              │                     │                    │\n",
      "├─────┼───────────────────────────────────┼──────────────┼─────────────────────┼────────────────────┤\n",
      "│  8  │    [[ 0  0  9  6  0  0  0 19]     │   0.776904   │      0.585588       │      0.803175      │\n",
      "│     │     [ 0  0 14  0  0  9  9  0]     │              │                     │                    │\n",
      "│     │     [16  4  0  0 25  0  0  0]]    │              │                     │                    │\n",
      "├─────┼───────────────────────────────────┼──────────────┼─────────────────────┼────────────────────┤\n",
      "│  9  │   [[ 0  0 14  0  9  5  6  0  0]   │   0.867813   │      0.778329       │      0.635237      │\n",
      "│     │    [ 8  6  0  0  1  0  0  9  8]   │              │                     │                    │\n",
      "│     │   [ 0  0  0 45  0  0  0  0  0]]   │              │                     │                    │\n",
      "├─────┼───────────────────────────────────┼──────────────┼─────────────────────┼────────────────────┤\n",
      "│ 10  │ [[10  0  3  0  0  0  8  6  2  5]  │   0.787387   │      0.607358       │      0.782264      │\n",
      "│     │  [ 0  0  0  1  8  0  0  1 14  8]  │              │                     │                    │\n",
      "│     │  [ 0 13  0  0  0 32  0  0  0  0]] │              │                     │                    │\n",
      "└─────┴───────────────────────────────────┴──────────────┴─────────────────────┴────────────────────┘\n"
     ]
    },
    {
     "name": "stderr",
     "output_type": "stream",
     "text": [
      "C:\\Users\\ssfes\\AppData\\Local\\Packages\\PythonSoftwareFoundation.Python.3.11_qbz5n2kfra8p0\\LocalCache\\local-packages\\Python311\\site-packages\\tabulate\\__init__.py:108: FutureWarning: elementwise comparison failed; returning scalar instead, but in the future will perform elementwise comparison\n",
      "  or (len(row) >= 2 and row[1] == SEPARATING_LINE)\n"
     ]
    }
   ],
   "source": [
    "table_data = [[x,y,z,k,l] for x, y, z, k, l in zip(range(2,11), matrix, ri, fms, db)]\n",
    "headers = ['k','Matriz de Contingencia','Rand Index','Fowlkes & Mallows','Medida Combinada']\n",
    "table = tabulate(table_data, headers, tablefmt='simple_grid',stralign='center',numalign='center')\n",
    "print(table)"
   ]
  }
 ],
 "metadata": {
  "kernelspec": {
   "display_name": "Python 3",
   "language": "python",
   "name": "python3"
  },
  "language_info": {
   "codemirror_mode": {
    "name": "ipython",
    "version": 3
   },
   "file_extension": ".py",
   "mimetype": "text/x-python",
   "name": "python",
   "nbconvert_exporter": "python",
   "pygments_lexer": "ipython3",
   "version": "3.11.5"
  },
  "orig_nbformat": 4
 },
 "nbformat": 4,
 "nbformat_minor": 2
}
